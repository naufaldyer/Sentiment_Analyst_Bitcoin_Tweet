{
 "cells": [
  {
   "cell_type": "markdown",
   "metadata": {},
   "source": [
    "# **Sentiment Analyst Bitcoin Tweet's**"
   ]
  },
  {
   "cell_type": "markdown",
   "metadata": {},
   "source": [
    "Objectives:\n",
    "- Predict the Sentiment of people's tweets against bitcoin\n",
    "\n",
    "    \n",
    "Data set: this dataset was obtained from Kaggle of bitcoin tweets collected from 2016 to 2019 (3 years). The number of original columns is approximately 3 million rows."
   ]
  },
  {
   "cell_type": "markdown",
   "metadata": {},
   "source": [
    "# **IMPORT PUSTAKA**"
   ]
  },
  {
   "cell_type": "code",
   "execution_count": 1,
   "metadata": {},
   "outputs": [],
   "source": [
    "import pandas as pd\n",
    "import numpy as np\n",
    "import matplotlib.pyplot as plt\n",
    "import seaborn as sns\n",
    "\n",
    "from sklearn.model_selection import train_test_split\n",
    "import re\n",
    "\n",
    "from langdetect import detect\n",
    "\n",
    "import nltk\n",
    "from nltk.corpus import stopwords\n",
    "from nltk.tokenize import RegexpTokenizer\n",
    "from nltk.stem import WordNetLemmatizer\n",
    "from nltk.tokenize import sent_tokenize\n",
    "from keras.preprocessing.text import Tokenizer\n",
    "from keras.preprocessing.sequence import pad_sequences\n",
    "from sklearn.preprocessing import LabelEncoder\n",
    "\n",
    "import tensorflow as tf\n",
    "from tensorflow import keras\n",
    "from keras.models import Sequential\n",
    "from keras.layers import Dense, Dropout, Embedding, LSTM, Flatten, Input\n",
    "\n",
    "from sklearn.metrics import confusion_matrix , classification_report\n",
    "\n",
    "import joblib"
   ]
  },
  {
   "cell_type": "markdown",
   "metadata": {},
   "source": [
    "# **DATA LOADING**"
   ]
  },
  {
   "cell_type": "markdown",
   "metadata": {},
   "source": [
    "## Data Sampling"
   ]
  },
  {
   "cell_type": "code",
   "execution_count": 13,
   "metadata": {},
   "outputs": [
    {
     "data": {
      "text/html": [
       "<div>\n",
       "<style scoped>\n",
       "    .dataframe tbody tr th:only-of-type {\n",
       "        vertical-align: middle;\n",
       "    }\n",
       "\n",
       "    .dataframe tbody tr th {\n",
       "        vertical-align: top;\n",
       "    }\n",
       "\n",
       "    .dataframe thead th {\n",
       "        text-align: right;\n",
       "    }\n",
       "</style>\n",
       "<table border=\"1\" class=\"dataframe\">\n",
       "  <thead>\n",
       "    <tr style=\"text-align: right;\">\n",
       "      <th></th>\n",
       "      <th>Date</th>\n",
       "      <th>text</th>\n",
       "      <th>Sentiment</th>\n",
       "    </tr>\n",
       "  </thead>\n",
       "  <tbody>\n",
       "    <tr>\n",
       "      <th>0</th>\n",
       "      <td>2019-05-27</td>\n",
       "      <td>È appena uscito un nuovo video! LES CRYPTOMONN...</td>\n",
       "      <td>Positive</td>\n",
       "    </tr>\n",
       "    <tr>\n",
       "      <th>1</th>\n",
       "      <td>2019-05-27</td>\n",
       "      <td>Cardano: Digitize Currencies; EOS https://t.co...</td>\n",
       "      <td>Positive</td>\n",
       "    </tr>\n",
       "    <tr>\n",
       "      <th>2</th>\n",
       "      <td>2019-05-27</td>\n",
       "      <td>Another Test tweet that wasn't caught in the s...</td>\n",
       "      <td>Positive</td>\n",
       "    </tr>\n",
       "    <tr>\n",
       "      <th>3</th>\n",
       "      <td>2019-05-27</td>\n",
       "      <td>Current Crypto Prices! \\n\\nBTC: $8721.99 USD\\n...</td>\n",
       "      <td>Positive</td>\n",
       "    </tr>\n",
       "    <tr>\n",
       "      <th>4</th>\n",
       "      <td>2019-05-27</td>\n",
       "      <td>Spiv (Nosar Baz): BITCOIN Is An Asset &amp;amp; NO...</td>\n",
       "      <td>Positive</td>\n",
       "    </tr>\n",
       "    <tr>\n",
       "      <th>...</th>\n",
       "      <td>...</td>\n",
       "      <td>...</td>\n",
       "      <td>...</td>\n",
       "    </tr>\n",
       "    <tr>\n",
       "      <th>19344043</th>\n",
       "      <td>2019-11-23</td>\n",
       "      <td>Happy #FibonacciDay \\n\\nA while back I created...</td>\n",
       "      <td>Positive</td>\n",
       "    </tr>\n",
       "    <tr>\n",
       "      <th>19344044</th>\n",
       "      <td>2019-11-23</td>\n",
       "      <td>Bitcoin Suisse Certificates :) https://t.co/nd...</td>\n",
       "      <td>Positive</td>\n",
       "    </tr>\n",
       "    <tr>\n",
       "      <th>19344045</th>\n",
       "      <td>2019-11-23</td>\n",
       "      <td>Register now for the early access of the Codug...</td>\n",
       "      <td>Positive</td>\n",
       "    </tr>\n",
       "    <tr>\n",
       "      <th>19344046</th>\n",
       "      <td>2019-11-23</td>\n",
       "      <td>@btc \\n@btc \\nDo you know that BTC Baskets isn...</td>\n",
       "      <td>Positive</td>\n",
       "    </tr>\n",
       "    <tr>\n",
       "      <th>19344047</th>\n",
       "      <td>2019-11-23</td>\n",
       "      <td>$BTC - an update on the longer term view for B...</td>\n",
       "      <td>Positive</td>\n",
       "    </tr>\n",
       "  </tbody>\n",
       "</table>\n",
       "<p>19344048 rows × 3 columns</p>\n",
       "</div>"
      ],
      "text/plain": [
       "                Date                                               text  \\\n",
       "0         2019-05-27  È appena uscito un nuovo video! LES CRYPTOMONN...   \n",
       "1         2019-05-27  Cardano: Digitize Currencies; EOS https://t.co...   \n",
       "2         2019-05-27  Another Test tweet that wasn't caught in the s...   \n",
       "3         2019-05-27  Current Crypto Prices! \\n\\nBTC: $8721.99 USD\\n...   \n",
       "4         2019-05-27  Spiv (Nosar Baz): BITCOIN Is An Asset &amp; NO...   \n",
       "...              ...                                                ...   \n",
       "19344043  2019-11-23  Happy #FibonacciDay \\n\\nA while back I created...   \n",
       "19344044  2019-11-23  Bitcoin Suisse Certificates :) https://t.co/nd...   \n",
       "19344045  2019-11-23  Register now for the early access of the Codug...   \n",
       "19344046  2019-11-23  @btc \\n@btc \\nDo you know that BTC Baskets isn...   \n",
       "19344047  2019-11-23  $BTC - an update on the longer term view for B...   \n",
       "\n",
       "         Sentiment  \n",
       "0         Positive  \n",
       "1         Positive  \n",
       "2         Positive  \n",
       "3         Positive  \n",
       "4         Positive  \n",
       "...            ...  \n",
       "19344043  Positive  \n",
       "19344044  Positive  \n",
       "19344045  Positive  \n",
       "19344046  Positive  \n",
       "19344047  Positive  \n",
       "\n",
       "[19344048 rows x 3 columns]"
      ]
     },
     "execution_count": 13,
     "metadata": {},
     "output_type": "execute_result"
    }
   ],
   "source": [
    "# df = pd.read_csv('mbsa.csv')\n",
    "# df"
   ]
  },
  {
   "cell_type": "code",
   "execution_count": 3,
   "metadata": {},
   "outputs": [
    {
     "name": "stdout",
     "output_type": "stream",
     "text": [
      "<class 'pandas.core.frame.DataFrame'>\n",
      "RangeIndex: 19344048 entries, 0 to 19344047\n",
      "Data columns (total 3 columns):\n",
      " #   Column     Dtype \n",
      "---  ------     ----- \n",
      " 0   Date       object\n",
      " 1   text       object\n",
      " 2   Sentiment  object\n",
      "dtypes: object(3)\n",
      "memory usage: 442.8+ MB\n"
     ]
    }
   ],
   "source": [
    "# df.info()"
   ]
  },
  {
   "cell_type": "code",
   "execution_count": 14,
   "metadata": {},
   "outputs": [
    {
     "data": {
      "text/html": [
       "<div>\n",
       "<style scoped>\n",
       "    .dataframe tbody tr th:only-of-type {\n",
       "        vertical-align: middle;\n",
       "    }\n",
       "\n",
       "    .dataframe tbody tr th {\n",
       "        vertical-align: top;\n",
       "    }\n",
       "\n",
       "    .dataframe thead th {\n",
       "        text-align: right;\n",
       "    }\n",
       "</style>\n",
       "<table border=\"1\" class=\"dataframe\">\n",
       "  <thead>\n",
       "    <tr style=\"text-align: right;\">\n",
       "      <th></th>\n",
       "      <th>Date</th>\n",
       "      <th>text</th>\n",
       "      <th>Sentiment</th>\n",
       "    </tr>\n",
       "  </thead>\n",
       "  <tbody>\n",
       "    <tr>\n",
       "      <th>644544</th>\n",
       "      <td>2018-09-11</td>\n",
       "      <td>I didnt tether at $7300 #iamspartacus\\n$btc $e...</td>\n",
       "      <td>Negative</td>\n",
       "    </tr>\n",
       "    <tr>\n",
       "      <th>644545</th>\n",
       "      <td>2018-09-11</td>\n",
       "      <td>2018-09-11 21:00:03 UTC\\n\\nBTC: $6261.32\\nBCH:...</td>\n",
       "      <td>Negative</td>\n",
       "    </tr>\n",
       "    <tr>\n",
       "      <th>644546</th>\n",
       "      <td>2018-09-11</td>\n",
       "      <td>Top 5 #cryptocurrencies \\n Alert Time: 2018-09...</td>\n",
       "      <td>Negative</td>\n",
       "    </tr>\n",
       "    <tr>\n",
       "      <th>644547</th>\n",
       "      <td>2018-09-11</td>\n",
       "      <td>Top performers (as per coinmarketcap) over las...</td>\n",
       "      <td>Negative</td>\n",
       "    </tr>\n",
       "    <tr>\n",
       "      <th>644548</th>\n",
       "      <td>2018-09-11</td>\n",
       "      <td>#BTCUSD Market #1H timeframe on  September 11 ...</td>\n",
       "      <td>Negative</td>\n",
       "    </tr>\n",
       "    <tr>\n",
       "      <th>...</th>\n",
       "      <td>...</td>\n",
       "      <td>...</td>\n",
       "      <td>...</td>\n",
       "    </tr>\n",
       "    <tr>\n",
       "      <th>6019508</th>\n",
       "      <td>2017-08-21</td>\n",
       "      <td>who the fuck called it a Bitcoin enthusiast fo...</td>\n",
       "      <td>Negative</td>\n",
       "    </tr>\n",
       "    <tr>\n",
       "      <th>6019509</th>\n",
       "      <td>2017-08-21</td>\n",
       "      <td>ブログ更新しました〜 マイナーワールドのご質問をしていただく方へ。 https://t.co...</td>\n",
       "      <td>Negative</td>\n",
       "    </tr>\n",
       "    <tr>\n",
       "      <th>6019510</th>\n",
       "      <td>2017-08-21</td>\n",
       "      <td>(Teen) faces 15 years in prison after used Twi...</td>\n",
       "      <td>Negative</td>\n",
       "    </tr>\n",
       "    <tr>\n",
       "      <th>6019511</th>\n",
       "      <td>2017-08-21</td>\n",
       "      <td>Why I'm skeptical of any attempt to build \"Bit...</td>\n",
       "      <td>Negative</td>\n",
       "    </tr>\n",
       "    <tr>\n",
       "      <th>6019512</th>\n",
       "      <td>2017-08-21</td>\n",
       "      <td>@MrHodl @DanielKrawisz @viaj3ro I have investe...</td>\n",
       "      <td>Negative</td>\n",
       "    </tr>\n",
       "  </tbody>\n",
       "</table>\n",
       "<p>3111597 rows × 3 columns</p>\n",
       "</div>"
      ],
      "text/plain": [
       "               Date                                               text  \\\n",
       "644544   2018-09-11  I didnt tether at $7300 #iamspartacus\\n$btc $e...   \n",
       "644545   2018-09-11  2018-09-11 21:00:03 UTC\\n\\nBTC: $6261.32\\nBCH:...   \n",
       "644546   2018-09-11  Top 5 #cryptocurrencies \\n Alert Time: 2018-09...   \n",
       "644547   2018-09-11  Top performers (as per coinmarketcap) over las...   \n",
       "644548   2018-09-11  #BTCUSD Market #1H timeframe on  September 11 ...   \n",
       "...             ...                                                ...   \n",
       "6019508  2017-08-21  who the fuck called it a Bitcoin enthusiast fo...   \n",
       "6019509  2017-08-21  ブログ更新しました〜 マイナーワールドのご質問をしていただく方へ。 https://t.co...   \n",
       "6019510  2017-08-21  (Teen) faces 15 years in prison after used Twi...   \n",
       "6019511  2017-08-21  Why I'm skeptical of any attempt to build \"Bit...   \n",
       "6019512  2017-08-21  @MrHodl @DanielKrawisz @viaj3ro I have investe...   \n",
       "\n",
       "        Sentiment  \n",
       "644544   Negative  \n",
       "644545   Negative  \n",
       "644546   Negative  \n",
       "644547   Negative  \n",
       "644548   Negative  \n",
       "...           ...  \n",
       "6019508  Negative  \n",
       "6019509  Negative  \n",
       "6019510  Negative  \n",
       "6019511  Negative  \n",
       "6019512  Negative  \n",
       "\n",
       "[3111597 rows x 3 columns]"
      ]
     },
     "execution_count": 14,
     "metadata": {},
     "output_type": "execute_result"
    }
   ],
   "source": [
    "# tweets = df.query( \"Date >='2017-01-01' & Date <='2018-31-12'\")\n",
    "# tweets"
   ]
  },
  {
   "cell_type": "markdown",
   "metadata": {},
   "source": [
    "I took tweets data in 2017 - 2018, because according to information outside this dataset, that year was the year where bitcoin experienced price fluctuations."
   ]
  },
  {
   "cell_type": "code",
   "execution_count": 5,
   "metadata": {},
   "outputs": [
    {
     "data": {
      "text/plain": [
       "Date         0\n",
       "text         0\n",
       "Sentiment    2\n",
       "dtype: int64"
      ]
     },
     "execution_count": 5,
     "metadata": {},
     "output_type": "execute_result"
    }
   ],
   "source": [
    "# tweets.isnull().sum()"
   ]
  },
  {
   "cell_type": "markdown",
   "metadata": {},
   "source": [
    "the 2017 - 2018 dataset has only 2 missing values in the Sentiment column, I will probably delete that later so that there are no missing values"
   ]
  },
  {
   "cell_type": "code",
   "execution_count": 6,
   "metadata": {},
   "outputs": [
    {
     "name": "stderr",
     "output_type": "stream",
     "text": [
      "C:\\Users\\HP\\AppData\\Local\\Programs\\Python\\Python310\\lib\\site-packages\\pandas\\util\\_decorators.py:311: SettingWithCopyWarning: \n",
      "A value is trying to be set on a copy of a slice from a DataFrame\n",
      "\n",
      "See the caveats in the documentation: https://pandas.pydata.org/pandas-docs/stable/user_guide/indexing.html#returning-a-view-versus-a-copy\n",
      "  return func(*args, **kwargs)\n"
     ]
    }
   ],
   "source": [
    "# tweets.dropna(inplace=True)"
   ]
  },
  {
   "cell_type": "code",
   "execution_count": 7,
   "metadata": {},
   "outputs": [
    {
     "data": {
      "text/plain": [
       "Date         0\n",
       "text         0\n",
       "Sentiment    0\n",
       "dtype: int64"
      ]
     },
     "execution_count": 7,
     "metadata": {},
     "output_type": "execute_result"
    }
   ],
   "source": [
    "# tweets.isnull().sum()"
   ]
  },
  {
   "cell_type": "code",
   "execution_count": 15,
   "metadata": {},
   "outputs": [
    {
     "data": {
      "text/html": [
       "<div>\n",
       "<style scoped>\n",
       "    .dataframe tbody tr th:only-of-type {\n",
       "        vertical-align: middle;\n",
       "    }\n",
       "\n",
       "    .dataframe tbody tr th {\n",
       "        vertical-align: top;\n",
       "    }\n",
       "\n",
       "    .dataframe thead th {\n",
       "        text-align: right;\n",
       "    }\n",
       "</style>\n",
       "<table border=\"1\" class=\"dataframe\">\n",
       "  <thead>\n",
       "    <tr style=\"text-align: right;\">\n",
       "      <th></th>\n",
       "      <th>Date</th>\n",
       "      <th>text</th>\n",
       "      <th>Sentiment</th>\n",
       "    </tr>\n",
       "  </thead>\n",
       "  <tbody>\n",
       "    <tr>\n",
       "      <th>0</th>\n",
       "      <td>2017-08-13</td>\n",
       "      <td>Bitcoin price breaks $4000. Here's why - Quart...</td>\n",
       "      <td>Positive</td>\n",
       "    </tr>\n",
       "    <tr>\n",
       "      <th>1</th>\n",
       "      <td>2018-08-03</td>\n",
       "      <td>@India_Bitcoin</td>\n",
       "      <td>Negative</td>\n",
       "    </tr>\n",
       "    <tr>\n",
       "      <th>2</th>\n",
       "      <td>2018-08-01</td>\n",
       "      <td>Jim Rogers: “La burbuja del bitcóin se parece...</td>\n",
       "      <td>Negative</td>\n",
       "    </tr>\n",
       "    <tr>\n",
       "      <th>3</th>\n",
       "      <td>2018-11-28</td>\n",
       "      <td>Other Services includes \\n• Buying and selling...</td>\n",
       "      <td>Positive</td>\n",
       "    </tr>\n",
       "    <tr>\n",
       "      <th>4</th>\n",
       "      <td>2018-08-02</td>\n",
       "      <td>トンカツやったぜ！スクショした</td>\n",
       "      <td>Negative</td>\n",
       "    </tr>\n",
       "    <tr>\n",
       "      <th>...</th>\n",
       "      <td>...</td>\n",
       "      <td>...</td>\n",
       "      <td>...</td>\n",
       "    </tr>\n",
       "    <tr>\n",
       "      <th>99995</th>\n",
       "      <td>2018-03-24</td>\n",
       "      <td>2018/03/25 05:00\\n#BTC 937481円\\n#ETH 56467.8円\\...</td>\n",
       "      <td>Negative</td>\n",
       "    </tr>\n",
       "    <tr>\n",
       "      <th>99996</th>\n",
       "      <td>2017-10-11</td>\n",
       "      <td>A Quick 'How To' Guide On The Basics Of Buying...</td>\n",
       "      <td>Positive</td>\n",
       "    </tr>\n",
       "    <tr>\n",
       "      <th>99997</th>\n",
       "      <td>2018-08-03</td>\n",
       "      <td>@India_Bitcoin</td>\n",
       "      <td>Negative</td>\n",
       "    </tr>\n",
       "    <tr>\n",
       "      <th>99998</th>\n",
       "      <td>2018-08-03</td>\n",
       "      <td>@Bitcoin_Post</td>\n",
       "      <td>Negative</td>\n",
       "    </tr>\n",
       "    <tr>\n",
       "      <th>99999</th>\n",
       "      <td>2018-08-03</td>\n",
       "      <td>@btc_0</td>\n",
       "      <td>Negative</td>\n",
       "    </tr>\n",
       "  </tbody>\n",
       "</table>\n",
       "<p>100000 rows × 3 columns</p>\n",
       "</div>"
      ],
      "text/plain": [
       "             Date                                               text Sentiment\n",
       "0      2017-08-13  Bitcoin price breaks $4000. Here's why - Quart...  Positive\n",
       "1      2018-08-03                                     @India_Bitcoin  Negative\n",
       "2      2018-08-01   Jim Rogers: “La burbuja del bitcóin se parece...  Negative\n",
       "3      2018-11-28  Other Services includes \\n• Buying and selling...  Positive\n",
       "4      2018-08-02                                    トンカツやったぜ！スクショした  Negative\n",
       "...           ...                                                ...       ...\n",
       "99995  2018-03-24  2018/03/25 05:00\\n#BTC 937481円\\n#ETH 56467.8円\\...  Negative\n",
       "99996  2017-10-11  A Quick 'How To' Guide On The Basics Of Buying...  Positive\n",
       "99997  2018-08-03                                     @India_Bitcoin  Negative\n",
       "99998  2018-08-03                                      @Bitcoin_Post  Negative\n",
       "99999  2018-08-03                                             @btc_0  Negative\n",
       "\n",
       "[100000 rows x 3 columns]"
      ]
     },
     "execution_count": 15,
     "metadata": {},
     "output_type": "execute_result"
    }
   ],
   "source": [
    "data = tweets.sample(100000, random_state=16)\n",
    "data.reset_index(drop=True, inplace=True)\n",
    "data"
   ]
  },
  {
   "cell_type": "markdown",
   "metadata": {},
   "source": [
    "Here I take random sampling from the 2017-2018 timeframe of 10000 columns. which will be saved to a new csv to ease the work of running this project."
   ]
  },
  {
   "cell_type": "code",
   "execution_count": 16,
   "metadata": {},
   "outputs": [],
   "source": [
    "#saving sampling to csv\n",
    "\n",
    "# data.to_csv('sampling.csv')"
   ]
  },
  {
   "cell_type": "markdown",
   "metadata": {},
   "source": [
    "## Data Loading With Sampling Data"
   ]
  },
  {
   "cell_type": "code",
   "execution_count": 17,
   "metadata": {},
   "outputs": [],
   "source": [
    "#load sampling to csv\n",
    "\n",
    "data = pd.read_csv('sampling.csv')"
   ]
  },
  {
   "cell_type": "code",
   "execution_count": 19,
   "metadata": {},
   "outputs": [],
   "source": [
    "#delete Unamed columns\n",
    "\n",
    "data = data.drop(columns='Unnamed: 0')"
   ]
  },
  {
   "cell_type": "code",
   "execution_count": 20,
   "metadata": {},
   "outputs": [
    {
     "data": {
      "text/html": [
       "<div>\n",
       "<style scoped>\n",
       "    .dataframe tbody tr th:only-of-type {\n",
       "        vertical-align: middle;\n",
       "    }\n",
       "\n",
       "    .dataframe tbody tr th {\n",
       "        vertical-align: top;\n",
       "    }\n",
       "\n",
       "    .dataframe thead th {\n",
       "        text-align: right;\n",
       "    }\n",
       "</style>\n",
       "<table border=\"1\" class=\"dataframe\">\n",
       "  <thead>\n",
       "    <tr style=\"text-align: right;\">\n",
       "      <th></th>\n",
       "      <th>Date</th>\n",
       "      <th>text</th>\n",
       "      <th>Sentiment</th>\n",
       "    </tr>\n",
       "  </thead>\n",
       "  <tbody>\n",
       "    <tr>\n",
       "      <th>0</th>\n",
       "      <td>2017-08-13</td>\n",
       "      <td>Bitcoin price breaks $4000. Here's why - Quart...</td>\n",
       "      <td>Positive</td>\n",
       "    </tr>\n",
       "    <tr>\n",
       "      <th>1</th>\n",
       "      <td>2018-08-03</td>\n",
       "      <td>@India_Bitcoin</td>\n",
       "      <td>Negative</td>\n",
       "    </tr>\n",
       "    <tr>\n",
       "      <th>2</th>\n",
       "      <td>2018-08-01</td>\n",
       "      <td>Jim Rogers: “La burbuja del bitcóin se parece...</td>\n",
       "      <td>Negative</td>\n",
       "    </tr>\n",
       "    <tr>\n",
       "      <th>3</th>\n",
       "      <td>2018-11-28</td>\n",
       "      <td>Other Services includes \\n• Buying and selling...</td>\n",
       "      <td>Positive</td>\n",
       "    </tr>\n",
       "    <tr>\n",
       "      <th>4</th>\n",
       "      <td>2018-08-02</td>\n",
       "      <td>トンカツやったぜ！スクショした</td>\n",
       "      <td>Negative</td>\n",
       "    </tr>\n",
       "    <tr>\n",
       "      <th>...</th>\n",
       "      <td>...</td>\n",
       "      <td>...</td>\n",
       "      <td>...</td>\n",
       "    </tr>\n",
       "    <tr>\n",
       "      <th>99995</th>\n",
       "      <td>2018-03-24</td>\n",
       "      <td>2018/03/25 05:00\\n#BTC 937481円\\n#ETH 56467.8円\\...</td>\n",
       "      <td>Negative</td>\n",
       "    </tr>\n",
       "    <tr>\n",
       "      <th>99996</th>\n",
       "      <td>2017-10-11</td>\n",
       "      <td>A Quick 'How To' Guide On The Basics Of Buying...</td>\n",
       "      <td>Positive</td>\n",
       "    </tr>\n",
       "    <tr>\n",
       "      <th>99997</th>\n",
       "      <td>2018-08-03</td>\n",
       "      <td>@India_Bitcoin</td>\n",
       "      <td>Negative</td>\n",
       "    </tr>\n",
       "    <tr>\n",
       "      <th>99998</th>\n",
       "      <td>2018-08-03</td>\n",
       "      <td>@Bitcoin_Post</td>\n",
       "      <td>Negative</td>\n",
       "    </tr>\n",
       "    <tr>\n",
       "      <th>99999</th>\n",
       "      <td>2018-08-03</td>\n",
       "      <td>@btc_0</td>\n",
       "      <td>Negative</td>\n",
       "    </tr>\n",
       "  </tbody>\n",
       "</table>\n",
       "<p>100000 rows × 3 columns</p>\n",
       "</div>"
      ],
      "text/plain": [
       "             Date                                               text Sentiment\n",
       "0      2017-08-13  Bitcoin price breaks $4000. Here's why - Quart...  Positive\n",
       "1      2018-08-03                                     @India_Bitcoin  Negative\n",
       "2      2018-08-01   Jim Rogers: “La burbuja del bitcóin se parece...  Negative\n",
       "3      2018-11-28  Other Services includes \\n• Buying and selling...  Positive\n",
       "4      2018-08-02                                    トンカツやったぜ！スクショした  Negative\n",
       "...           ...                                                ...       ...\n",
       "99995  2018-03-24  2018/03/25 05:00\\n#BTC 937481円\\n#ETH 56467.8円\\...  Negative\n",
       "99996  2017-10-11  A Quick 'How To' Guide On The Basics Of Buying...  Positive\n",
       "99997  2018-08-03                                     @India_Bitcoin  Negative\n",
       "99998  2018-08-03                                      @Bitcoin_Post  Negative\n",
       "99999  2018-08-03                                             @btc_0  Negative\n",
       "\n",
       "[100000 rows x 3 columns]"
      ]
     },
     "execution_count": 20,
     "metadata": {},
     "output_type": "execute_result"
    }
   ],
   "source": [
    "data"
   ]
  },
  {
   "cell_type": "code",
   "execution_count": 31,
   "metadata": {},
   "outputs": [
    {
     "data": {
      "text/plain": [
       "Date         0\n",
       "text         0\n",
       "Sentiment    0\n",
       "language     0\n",
       "dtype: int64"
      ]
     },
     "execution_count": 31,
     "metadata": {},
     "output_type": "execute_result"
    }
   ],
   "source": [
    "#Check missing values\n",
    "data.isnull().sum()"
   ]
  },
  {
   "cell_type": "markdown",
   "metadata": {},
   "source": [
    "There are no missing values in this dataset."
   ]
  },
  {
   "cell_type": "markdown",
   "metadata": {},
   "source": [
    "# **EXPLORATION DATA ANALYSIS**"
   ]
  },
  {
   "cell_type": "markdown",
   "metadata": {},
   "source": [
    "## Sentiment analysis"
   ]
  },
  {
   "cell_type": "code",
   "execution_count": 21,
   "metadata": {},
   "outputs": [
    {
     "data": {
      "text/plain": [
       "Negative    66151\n",
       "Positive    33829\n",
       "Neutral        20\n",
       "Name: Sentiment, dtype: int64"
      ]
     },
     "execution_count": 21,
     "metadata": {},
     "output_type": "execute_result"
    }
   ],
   "source": [
    "data.Sentiment.value_counts()"
   ]
  },
  {
   "cell_type": "code",
   "execution_count": 22,
   "metadata": {},
   "outputs": [
    {
     "data": {
      "text/plain": [
       "array(['Positive', 'Negative', 'Neutral'], dtype=object)"
      ]
     },
     "execution_count": 22,
     "metadata": {},
     "output_type": "execute_result"
    }
   ],
   "source": [
    "data.Sentiment.unique()"
   ]
  },
  {
   "cell_type": "code",
   "execution_count": 23,
   "metadata": {},
   "outputs": [
    {
     "data": {
      "text/plain": [
       "<matplotlib.legend.Legend at 0x2626dfaf4f0>"
      ]
     },
     "execution_count": 23,
     "metadata": {},
     "output_type": "execute_result"
    },
    {
     "data": {
      "image/png": "[encoded data removed]",
      "text/plain": [
       "<Figure size 720x360 with 1 Axes>"
      ]
     },
     "metadata": {},
     "output_type": "display_data"
    }
   ],
   "source": [
    "fig,ax = plt.subplots(figsize=(10,5))\n",
    "plt.pie(data.Sentiment.value_counts(), labels=data.Sentiment.value_counts().keys(), autopct='%.2f%%')\n",
    "ax.set_title('Whether Churn or not')\n",
    "plt.legend()"
   ]
  },
  {
   "cell_type": "markdown",
   "metadata": {},
   "source": [
    "It is known that 2017 - 2018 was a year where the price of bitcoin was up and down. and after we look at the sentiment, 33.80% positive sentiment, 66.19% negative sentiment and only 0.01% neutral sentiment which proves that when the bitcoin price is experiencing ups and downs, the sentiment of people's tweets is also dominated by positive sentiment and negative sentiment.\n"
   ]
  },
  {
   "cell_type": "markdown",
   "metadata": {},
   "source": [
    "People will tweet when there is a bitcoin price movement, and the tweet sentiment will follow what happens. when the price goes up the tweet will be positive and when the price goes down the tweet will be negative. neutral means that there is no significant price movement."
   ]
  },
  {
   "cell_type": "markdown",
   "metadata": {},
   "source": [
    "I think the tweets on twitter and the price of bitcoin can be said to influence each other. because twitter is one of the biggest social media a lot of users. Bitcoin price movements are influenced by the volume of buying and selling."
   ]
  },
  {
   "cell_type": "markdown",
   "metadata": {},
   "source": [
    "## Language of Text"
   ]
  },
  {
   "cell_type": "markdown",
   "metadata": {},
   "source": [
    "Here will be checking the language that is often used by Twitter users. Before checking, there will be a language detection first.\n",
    "\n",
    "Language detection is carried out to remove undetected languages and to find out what language is used."
   ]
  },
  {
   "cell_type": "code",
   "execution_count": 24,
   "metadata": {},
   "outputs": [
    {
     "data": {
      "text/plain": [
       "'en'"
      ]
     },
     "execution_count": 24,
     "metadata": {},
     "output_type": "execute_result"
    }
   ],
   "source": [
    "#check syntax\n",
    "detect(data.at[0,'text'])"
   ]
  },
  {
   "cell_type": "code",
   "execution_count": 25,
   "metadata": {},
   "outputs": [],
   "source": [
    "#drop invalid language\n",
    "invalid_text = []\n",
    "\n",
    "for i in data.index:\n",
    "  try:\n",
    "    a = detect(data.at[i,'text'])\n",
    "  except:\n",
    "    invalid_text.append(i)\n",
    "    \n",
    "data = data.drop(index =invalid_text)"
   ]
  },
  {
   "cell_type": "code",
   "execution_count": 26,
   "metadata": {},
   "outputs": [
    {
     "data": {
      "text/plain": [
       "(99917, 3)"
      ]
     },
     "execution_count": 26,
     "metadata": {},
     "output_type": "execute_result"
    }
   ],
   "source": [
    "data.shape"
   ]
  },
  {
   "cell_type": "markdown",
   "metadata": {},
   "source": [
    "After being dropped, it turns out that the shape has changed from 100,000 rows to 99,917 rows, meaning there are 3 columns that are not detected"
   ]
  },
  {
   "cell_type": "code",
   "execution_count": 27,
   "metadata": {},
   "outputs": [
    {
     "data": {
      "text/html": [
       "<div>\n",
       "<style scoped>\n",
       "    .dataframe tbody tr th:only-of-type {\n",
       "        vertical-align: middle;\n",
       "    }\n",
       "\n",
       "    .dataframe tbody tr th {\n",
       "        vertical-align: top;\n",
       "    }\n",
       "\n",
       "    .dataframe thead th {\n",
       "        text-align: right;\n",
       "    }\n",
       "</style>\n",
       "<table border=\"1\" class=\"dataframe\">\n",
       "  <thead>\n",
       "    <tr style=\"text-align: right;\">\n",
       "      <th></th>\n",
       "      <th>Date</th>\n",
       "      <th>text</th>\n",
       "      <th>Sentiment</th>\n",
       "      <th>language</th>\n",
       "    </tr>\n",
       "  </thead>\n",
       "  <tbody>\n",
       "    <tr>\n",
       "      <th>0</th>\n",
       "      <td>2017-08-13</td>\n",
       "      <td>Bitcoin price breaks $4000. Here's why - Quart...</td>\n",
       "      <td>Positive</td>\n",
       "      <td>en</td>\n",
       "    </tr>\n",
       "    <tr>\n",
       "      <th>1</th>\n",
       "      <td>2018-08-03</td>\n",
       "      <td>@India_Bitcoin</td>\n",
       "      <td>Negative</td>\n",
       "      <td>en</td>\n",
       "    </tr>\n",
       "    <tr>\n",
       "      <th>2</th>\n",
       "      <td>2018-08-01</td>\n",
       "      <td>Jim Rogers: “La burbuja del bitcóin se parece...</td>\n",
       "      <td>Negative</td>\n",
       "      <td>es</td>\n",
       "    </tr>\n",
       "    <tr>\n",
       "      <th>3</th>\n",
       "      <td>2018-11-28</td>\n",
       "      <td>Other Services includes \\n• Buying and selling...</td>\n",
       "      <td>Positive</td>\n",
       "      <td>en</td>\n",
       "    </tr>\n",
       "    <tr>\n",
       "      <th>4</th>\n",
       "      <td>2018-08-02</td>\n",
       "      <td>トンカツやったぜ！スクショした</td>\n",
       "      <td>Negative</td>\n",
       "      <td>ja</td>\n",
       "    </tr>\n",
       "  </tbody>\n",
       "</table>\n",
       "</div>"
      ],
      "text/plain": [
       "         Date                                               text Sentiment  \\\n",
       "0  2017-08-13  Bitcoin price breaks $4000. Here's why - Quart...  Positive   \n",
       "1  2018-08-03                                     @India_Bitcoin  Negative   \n",
       "2  2018-08-01   Jim Rogers: “La burbuja del bitcóin se parece...  Negative   \n",
       "3  2018-11-28  Other Services includes \\n• Buying and selling...  Positive   \n",
       "4  2018-08-02                                    トンカツやったぜ！スクショした  Negative   \n",
       "\n",
       "  language  \n",
       "0       en  \n",
       "1       en  \n",
       "2       es  \n",
       "3       en  \n",
       "4       ja  "
      ]
     },
     "execution_count": 27,
     "metadata": {},
     "output_type": "execute_result"
    }
   ],
   "source": [
    "#vreate new columns of language\n",
    "data['language'] = data['text'].map(lambda desc: detect(desc))\n",
    "data.head()"
   ]
  },
  {
   "cell_type": "code",
   "execution_count": 28,
   "metadata": {},
   "outputs": [
    {
     "data": {
      "image/png": "[encoded data removed]",
      "text/plain": [
       "<Figure size 1080x360 with 1 Axes>"
      ]
     },
     "metadata": {
      "needs_background": "light"
     },
     "output_type": "display_data"
    }
   ],
   "source": [
    "fig,ax = plt.subplots(figsize=(15,5))\n",
    "\n",
    "sns.countplot(x=\"language\", data=data, ax=ax);"
   ]
  },
  {
   "cell_type": "markdown",
   "metadata": {},
   "source": [
    "The language that is often used is English. English is indeed an international language so it is very natural that English is the language that is often used by people to tweet something. Therefore I will query using English only."
   ]
  },
  {
   "cell_type": "code",
   "execution_count": 32,
   "metadata": {},
   "outputs": [
    {
     "data": {
      "text/html": [
       "<div>\n",
       "<style scoped>\n",
       "    .dataframe tbody tr th:only-of-type {\n",
       "        vertical-align: middle;\n",
       "    }\n",
       "\n",
       "    .dataframe tbody tr th {\n",
       "        vertical-align: top;\n",
       "    }\n",
       "\n",
       "    .dataframe thead th {\n",
       "        text-align: right;\n",
       "    }\n",
       "</style>\n",
       "<table border=\"1\" class=\"dataframe\">\n",
       "  <thead>\n",
       "    <tr style=\"text-align: right;\">\n",
       "      <th></th>\n",
       "      <th>Date</th>\n",
       "      <th>text</th>\n",
       "      <th>Sentiment</th>\n",
       "      <th>language</th>\n",
       "    </tr>\n",
       "  </thead>\n",
       "  <tbody>\n",
       "    <tr>\n",
       "      <th>0</th>\n",
       "      <td>2017-08-13</td>\n",
       "      <td>Bitcoin price breaks $4000. Here's why - Quart...</td>\n",
       "      <td>Positive</td>\n",
       "      <td>en</td>\n",
       "    </tr>\n",
       "    <tr>\n",
       "      <th>1</th>\n",
       "      <td>2018-08-03</td>\n",
       "      <td>@India_Bitcoin</td>\n",
       "      <td>Negative</td>\n",
       "      <td>en</td>\n",
       "    </tr>\n",
       "    <tr>\n",
       "      <th>3</th>\n",
       "      <td>2018-11-28</td>\n",
       "      <td>Other Services includes \\n• Buying and selling...</td>\n",
       "      <td>Positive</td>\n",
       "      <td>en</td>\n",
       "    </tr>\n",
       "    <tr>\n",
       "      <th>5</th>\n",
       "      <td>2017-12-08</td>\n",
       "      <td>When changing your #password is not an much of...</td>\n",
       "      <td>Negative</td>\n",
       "      <td>en</td>\n",
       "    </tr>\n",
       "    <tr>\n",
       "      <th>7</th>\n",
       "      <td>2017-12-08</td>\n",
       "      <td>Can you collect Bitcoin in a lottery mood?\\n\\n...</td>\n",
       "      <td>Negative</td>\n",
       "      <td>en</td>\n",
       "    </tr>\n",
       "    <tr>\n",
       "      <th>...</th>\n",
       "      <td>...</td>\n",
       "      <td>...</td>\n",
       "      <td>...</td>\n",
       "      <td>...</td>\n",
       "    </tr>\n",
       "    <tr>\n",
       "      <th>99994</th>\n",
       "      <td>2018-11-03</td>\n",
       "      <td>Current price: $0.022563 \\nNode count: 1074 \\n...</td>\n",
       "      <td>Negative</td>\n",
       "      <td>en</td>\n",
       "    </tr>\n",
       "    <tr>\n",
       "      <th>99995</th>\n",
       "      <td>2018-03-24</td>\n",
       "      <td>2018/03/25 05:00\\n#BTC 937481円\\n#ETH 56467.8円\\...</td>\n",
       "      <td>Negative</td>\n",
       "      <td>en</td>\n",
       "    </tr>\n",
       "    <tr>\n",
       "      <th>99996</th>\n",
       "      <td>2017-10-11</td>\n",
       "      <td>A Quick 'How To' Guide On The Basics Of Buying...</td>\n",
       "      <td>Positive</td>\n",
       "      <td>en</td>\n",
       "    </tr>\n",
       "    <tr>\n",
       "      <th>99997</th>\n",
       "      <td>2018-08-03</td>\n",
       "      <td>@India_Bitcoin</td>\n",
       "      <td>Negative</td>\n",
       "      <td>en</td>\n",
       "    </tr>\n",
       "    <tr>\n",
       "      <th>99998</th>\n",
       "      <td>2018-08-03</td>\n",
       "      <td>@Bitcoin_Post</td>\n",
       "      <td>Negative</td>\n",
       "      <td>en</td>\n",
       "    </tr>\n",
       "  </tbody>\n",
       "</table>\n",
       "<p>55998 rows × 4 columns</p>\n",
       "</div>"
      ],
      "text/plain": [
       "             Date                                               text  \\\n",
       "0      2017-08-13  Bitcoin price breaks $4000. Here's why - Quart...   \n",
       "1      2018-08-03                                     @India_Bitcoin   \n",
       "3      2018-11-28  Other Services includes \\n• Buying and selling...   \n",
       "5      2017-12-08  When changing your #password is not an much of...   \n",
       "7      2017-12-08  Can you collect Bitcoin in a lottery mood?\\n\\n...   \n",
       "...           ...                                                ...   \n",
       "99994  2018-11-03  Current price: $0.022563 \\nNode count: 1074 \\n...   \n",
       "99995  2018-03-24  2018/03/25 05:00\\n#BTC 937481円\\n#ETH 56467.8円\\...   \n",
       "99996  2017-10-11  A Quick 'How To' Guide On The Basics Of Buying...   \n",
       "99997  2018-08-03                                     @India_Bitcoin   \n",
       "99998  2018-08-03                                      @Bitcoin_Post   \n",
       "\n",
       "      Sentiment language  \n",
       "0      Positive       en  \n",
       "1      Negative       en  \n",
       "3      Positive       en  \n",
       "5      Negative       en  \n",
       "7      Negative       en  \n",
       "...         ...      ...  \n",
       "99994  Negative       en  \n",
       "99995  Negative       en  \n",
       "99996  Positive       en  \n",
       "99997  Negative       en  \n",
       "99998  Negative       en  \n",
       "\n",
       "[55998 rows x 4 columns]"
      ]
     },
     "execution_count": 32,
     "metadata": {},
     "output_type": "execute_result"
    }
   ],
   "source": [
    "#Query for english only\n",
    "dftwt = data.query( \"language =='en'\")\n",
    "dftwt"
   ]
  },
  {
   "cell_type": "markdown",
   "metadata": {},
   "source": [
    "## Sentiment Analysis (English Only)"
   ]
  },
  {
   "cell_type": "code",
   "execution_count": 33,
   "metadata": {},
   "outputs": [
    {
     "data": {
      "text/plain": [
       "Negative    31608\n",
       "Positive    24375\n",
       "Neutral        15\n",
       "Name: Sentiment, dtype: int64"
      ]
     },
     "execution_count": 33,
     "metadata": {},
     "output_type": "execute_result"
    }
   ],
   "source": [
    "dftwt.Sentiment.value_counts()"
   ]
  },
  {
   "cell_type": "code",
   "execution_count": 35,
   "metadata": {},
   "outputs": [
    {
     "data": {
      "text/plain": [
       "<matplotlib.legend.Legend at 0x2626e6bfd30>"
      ]
     },
     "execution_count": 35,
     "metadata": {},
     "output_type": "execute_result"
    },
    {
     "data": {
      "image/png": "[encoded data removed]",
      "text/plain": [
       "<Figure size 720x360 with 1 Axes>"
      ]
     },
     "metadata": {},
     "output_type": "display_data"
    }
   ],
   "source": [
    "fig,ax = plt.subplots(figsize=(10,5))\n",
    "plt.pie(dftwt.Sentiment.value_counts(), labels=dftwt.Sentiment.value_counts().keys(), autopct='%.2f%%')\n",
    "ax.set_title('Sentiment')\n",
    "plt.legend()"
   ]
  },
  {
   "cell_type": "markdown",
   "metadata": {},
   "source": [
    "Sentiment in English shows 56.44% Negative, 43.53% Positive and only 0.03% is neutral."
   ]
  },
  {
   "cell_type": "markdown",
   "metadata": {},
   "source": [
    "## Tweet lenght"
   ]
  },
  {
   "cell_type": "code",
   "execution_count": 43,
   "metadata": {},
   "outputs": [
    {
     "data": {
      "image/png": "[encoded data removed]",
      "text/plain": [
       "<Figure size 720x360 with 1 Axes>"
      ]
     },
     "metadata": {
      "needs_background": "light"
     },
     "output_type": "display_data"
    }
   ],
   "source": [
    "dftwt[\"tweet_length\"] = dftwt[\"text\"].apply(len)\n",
    "fig,ax = plt.subplots(figsize=(10,5))\n",
    "sns.histplot(data=dftwt, x=\"tweet_length\");"
   ]
  },
  {
   "cell_type": "markdown",
   "metadata": {},
   "source": [
    "If we see from the distribution of the number of characters. there's a spike of over 5000 under 100 characters. this shows that many people use fewer characters to tweet about bitcoin.\n",
    "\n",
    "seen after the spike. it can be seen that the graph shows an increase towards 200 character usage before decreasing to reach 200. it can be seen that the use of 200 characters is still rarely used by people to tweet."
   ]
  },
  {
   "cell_type": "code",
   "execution_count": 44,
   "metadata": {},
   "outputs": [
    {
     "data": {
      "text/plain": [
       "129.1499696417729"
      ]
     },
     "execution_count": 44,
     "metadata": {},
     "output_type": "execute_result"
    }
   ],
   "source": [
    "#mean\n",
    "dftwt.tweet_length.mean()"
   ]
  },
  {
   "cell_type": "markdown",
   "metadata": {},
   "source": [
    "The average number of characters used to tweet is 129 characters."
   ]
  },
  {
   "cell_type": "markdown",
   "metadata": {},
   "source": [
    "the average person uses 129 characters to tweet something that has positive, negative and neutral sentiments"
   ]
  },
  {
   "cell_type": "code",
   "execution_count": 45,
   "metadata": {},
   "outputs": [
    {
     "data": {
      "text/plain": [
       "(3, 852)"
      ]
     },
     "execution_count": 45,
     "metadata": {},
     "output_type": "execute_result"
    }
   ],
   "source": [
    "#min and max\n",
    "min(dftwt[\"tweet_length\"]), max(dftwt[\"tweet_length\"])"
   ]
  },
  {
   "cell_type": "markdown",
   "metadata": {},
   "source": [
    "It can be seen that the maximum number of characters used is 852 and the minimum is 3. The maximum number of characters in Twitter is 240, it can be assumed that the number of characters above 240 is a combination of several tweets (threads) made by the user and combined in this dataset."
   ]
  },
  {
   "cell_type": "markdown",
   "metadata": {},
   "source": [
    "## Number of Words"
   ]
  },
  {
   "cell_type": "code",
   "execution_count": 49,
   "metadata": {},
   "outputs": [
    {
     "name": "stderr",
     "output_type": "stream",
     "text": [
      "C:\\Users\\HP\\AppData\\Local\\Temp\\ipykernel_24968\\3947329717.py:4: SettingWithCopyWarning: \n",
      "A value is trying to be set on a copy of a slice from a DataFrame.\n",
      "Try using .loc[row_indexer,col_indexer] = value instead\n",
      "\n",
      "See the caveats in the documentation: https://pandas.pydata.org/pandas-docs/stable/user_guide/indexing.html#returning-a-view-versus-a-copy\n",
      "  dftwt[\"num_words\"] = dftwt[\"text\"].apply(count_words)\n"
     ]
    },
    {
     "name": "stdout",
     "output_type": "stream",
     "text": [
      "mean of num word: 16.099092824743742\n",
      "min of num words: 1\n",
      "max of num word: 73\n"
     ]
    },
    {
     "data": {
      "image/png": "[encoded data removed]",
      "text/plain": [
       "<Figure size 720x360 with 1 Axes>"
      ]
     },
     "metadata": {
      "needs_background": "light"
     },
     "output_type": "display_data"
    }
   ],
   "source": [
    "def count_words(x):\n",
    "    return len(x.split())\n",
    "\n",
    "dftwt[\"num_words\"] = dftwt[\"text\"].apply(count_words)\n",
    "fig,ax = plt.subplots(figsize=(10,5))\n",
    "sns.histplot(data=dftwt, x=\"num_words\");\n",
    "print('mean of num word:', dftwt.num_words.mean())\n",
    "print('min of num words:',min(dftwt[\"num_words\"]))\n",
    "print('max of num word:',max(dftwt[\"num_words\"]) )"
   ]
  },
  {
   "cell_type": "markdown",
   "metadata": {},
   "source": [
    "the average word used is 16 words to tweet, the minimum is 1 and the maximum is 73. to tweet using 73 in one tweet, this means that there is something discussed, not just an upate. whenever possible in this dataset there is 1 thread being merged. and to tweet 1 word it is very little or you could say it's just for updating, for example 'bitcoin' and then tweeting it.\n",
    "\n",
    "most people tweet using 16 words about bitcoin which is where the tweet is detected can be sentimental towards bitcoin.\n",
    "\n",
    "the more characters used the less people use that number of characters. this adds to my belief that the more characters and the more words it is a thread that is done by the user to make a short discussion about bitcoin, because creating a thread is not something that is commonly done by users on twitter."
   ]
  },
  {
   "cell_type": "markdown",
   "metadata": {},
   "source": [
    "# **DATA PREPROCESSING**"
   ]
  },
  {
   "cell_type": "markdown",
   "metadata": {},
   "source": [
    "In this section, it will be done first to clean up the existing tweets and then proceed with the distribution of the dataset and the last is preprocessing."
   ]
  },
  {
   "cell_type": "markdown",
   "metadata": {},
   "source": [
    "## Data Cleaning"
   ]
  },
  {
   "cell_type": "code",
   "execution_count": 77,
   "metadata": {},
   "outputs": [],
   "source": [
    "#function for cleaning text\n",
    "\n",
    "def _removeNonAscii(s): \n",
    "    return \"\".join(i for i in s if ord(i)<128)\n",
    "\n",
    "\n",
    "def clean_text(text):\n",
    "    text = text.lower()\n",
    "    text = re.sub(r\"http\\S+\", \"\", text)\n",
    "    text = re.sub(r\"what's\", \"what is \", text)\n",
    "    text = text.replace('(ap)', '')\n",
    "    text = re.sub(r\"\\'s\", \" is \", text)\n",
    "    text = re.sub(r\"\\'ve\", \" have \", text)\n",
    "    text = re.sub(r\"can't\", \"cannot \", text)\n",
    "    text = re.sub(r\"n't\", \" not \", text)\n",
    "    text = re.sub(r\"i'm\", \"i am \", text)\n",
    "    text = re.sub(r\"\\'re\", \" are \", text)\n",
    "    text = re.sub(r\"\\'d\", \" would \", text)\n",
    "    text = re.sub(r\"\\'ll\", \" will \", text)\n",
    "    text = re.sub(r'\\W+', ' ', text)\n",
    "    text = re.sub(r'\\s+', ' ', text)\n",
    "    text = re.sub(r\"\\\\\", \"\", text)\n",
    "    text = re.sub(r\"\\'\", \"\", text)    \n",
    "    text = re.sub(r\"\\\"\", \"\", text)\n",
    "    text = re.sub('[^a-zA-Z ?!]+', '', text)\n",
    "    text = _removeNonAscii(text)\n",
    "    text = text.strip()\n",
    "    return text\n",
    "\n",
    "def cleaner(df):\n",
    "    dftwt['clean_text'] = dftwt['text'].apply(clean_text)\n",
    "    return df\n"
   ]
  },
  {
   "cell_type": "code",
   "execution_count": 78,
   "metadata": {},
   "outputs": [
    {
     "name": "stderr",
     "output_type": "stream",
     "text": [
      "C:\\Users\\HP\\AppData\\Local\\Temp\\ipykernel_24968\\1649341237.py:31: SettingWithCopyWarning: \n",
      "A value is trying to be set on a copy of a slice from a DataFrame.\n",
      "Try using .loc[row_indexer,col_indexer] = value instead\n",
      "\n",
      "See the caveats in the documentation: https://pandas.pydata.org/pandas-docs/stable/user_guide/indexing.html#returning-a-view-versus-a-copy\n",
      "  dftwt['clean_text'] = dftwt['text'].apply(clean_text)\n"
     ]
    },
    {
     "data": {
      "text/html": [
       "<div>\n",
       "<style scoped>\n",
       "    .dataframe tbody tr th:only-of-type {\n",
       "        vertical-align: middle;\n",
       "    }\n",
       "\n",
       "    .dataframe tbody tr th {\n",
       "        vertical-align: top;\n",
       "    }\n",
       "\n",
       "    .dataframe thead th {\n",
       "        text-align: right;\n",
       "    }\n",
       "</style>\n",
       "<table border=\"1\" class=\"dataframe\">\n",
       "  <thead>\n",
       "    <tr style=\"text-align: right;\">\n",
       "      <th></th>\n",
       "      <th>Date</th>\n",
       "      <th>text</th>\n",
       "      <th>Sentiment</th>\n",
       "      <th>language</th>\n",
       "      <th>tweet_length</th>\n",
       "      <th>num_words</th>\n",
       "      <th>clean_text</th>\n",
       "    </tr>\n",
       "  </thead>\n",
       "  <tbody>\n",
       "    <tr>\n",
       "      <th>0</th>\n",
       "      <td>2017-08-13</td>\n",
       "      <td>Bitcoin price breaks $4000. Here's why - Quart...</td>\n",
       "      <td>Positive</td>\n",
       "      <td>en</td>\n",
       "      <td>70</td>\n",
       "      <td>9</td>\n",
       "      <td>bitcoin price breaks  here is why quartz</td>\n",
       "    </tr>\n",
       "    <tr>\n",
       "      <th>1</th>\n",
       "      <td>2018-08-03</td>\n",
       "      <td>@India_Bitcoin</td>\n",
       "      <td>Negative</td>\n",
       "      <td>en</td>\n",
       "      <td>14</td>\n",
       "      <td>1</td>\n",
       "      <td>indiabitcoin</td>\n",
       "    </tr>\n",
       "    <tr>\n",
       "      <th>3</th>\n",
       "      <td>2018-11-28</td>\n",
       "      <td>Other Services includes \\n• Buying and selling...</td>\n",
       "      <td>Positive</td>\n",
       "      <td>en</td>\n",
       "      <td>214</td>\n",
       "      <td>35</td>\n",
       "      <td>other services includes buying and selling of ...</td>\n",
       "    </tr>\n",
       "    <tr>\n",
       "      <th>5</th>\n",
       "      <td>2017-12-08</td>\n",
       "      <td>When changing your #password is not an much of...</td>\n",
       "      <td>Negative</td>\n",
       "      <td>en</td>\n",
       "      <td>309</td>\n",
       "      <td>39</td>\n",
       "      <td>when changing your password is not an much of ...</td>\n",
       "    </tr>\n",
       "    <tr>\n",
       "      <th>7</th>\n",
       "      <td>2017-12-08</td>\n",
       "      <td>Can you collect Bitcoin in a lottery mood?\\n\\n...</td>\n",
       "      <td>Negative</td>\n",
       "      <td>en</td>\n",
       "      <td>90</td>\n",
       "      <td>11</td>\n",
       "      <td>can you collect bitcoin in a lottery mood btc ...</td>\n",
       "    </tr>\n",
       "    <tr>\n",
       "      <th>...</th>\n",
       "      <td>...</td>\n",
       "      <td>...</td>\n",
       "      <td>...</td>\n",
       "      <td>...</td>\n",
       "      <td>...</td>\n",
       "      <td>...</td>\n",
       "      <td>...</td>\n",
       "    </tr>\n",
       "    <tr>\n",
       "      <th>99994</th>\n",
       "      <td>2018-11-03</td>\n",
       "      <td>Current price: $0.022563 \\nNode count: 1074 \\n...</td>\n",
       "      <td>Negative</td>\n",
       "      <td>en</td>\n",
       "      <td>126</td>\n",
       "      <td>18</td>\n",
       "      <td>current price   node count  total accounts  co...</td>\n",
       "    </tr>\n",
       "    <tr>\n",
       "      <th>99995</th>\n",
       "      <td>2018-03-24</td>\n",
       "      <td>2018/03/25 05:00\\n#BTC 937481円\\n#ETH 56467.8円\\...</td>\n",
       "      <td>Negative</td>\n",
       "      <td>en</td>\n",
       "      <td>160</td>\n",
       "      <td>23</td>\n",
       "      <td>btc  eth   etc   bch   xrp  xem   lsk   mona  ...</td>\n",
       "    </tr>\n",
       "    <tr>\n",
       "      <th>99996</th>\n",
       "      <td>2017-10-11</td>\n",
       "      <td>A Quick 'How To' Guide On The Basics Of Buying...</td>\n",
       "      <td>Positive</td>\n",
       "      <td>en</td>\n",
       "      <td>164</td>\n",
       "      <td>23</td>\n",
       "      <td>a quick how to guide on the basics of buying a...</td>\n",
       "    </tr>\n",
       "    <tr>\n",
       "      <th>99997</th>\n",
       "      <td>2018-08-03</td>\n",
       "      <td>@India_Bitcoin</td>\n",
       "      <td>Negative</td>\n",
       "      <td>en</td>\n",
       "      <td>14</td>\n",
       "      <td>1</td>\n",
       "      <td>indiabitcoin</td>\n",
       "    </tr>\n",
       "    <tr>\n",
       "      <th>99998</th>\n",
       "      <td>2018-08-03</td>\n",
       "      <td>@Bitcoin_Post</td>\n",
       "      <td>Negative</td>\n",
       "      <td>en</td>\n",
       "      <td>13</td>\n",
       "      <td>1</td>\n",
       "      <td>bitcoinpost</td>\n",
       "    </tr>\n",
       "  </tbody>\n",
       "</table>\n",
       "<p>55998 rows × 7 columns</p>\n",
       "</div>"
      ],
      "text/plain": [
       "             Date                                               text  \\\n",
       "0      2017-08-13  Bitcoin price breaks $4000. Here's why - Quart...   \n",
       "1      2018-08-03                                     @India_Bitcoin   \n",
       "3      2018-11-28  Other Services includes \\n• Buying and selling...   \n",
       "5      2017-12-08  When changing your #password is not an much of...   \n",
       "7      2017-12-08  Can you collect Bitcoin in a lottery mood?\\n\\n...   \n",
       "...           ...                                                ...   \n",
       "99994  2018-11-03  Current price: $0.022563 \\nNode count: 1074 \\n...   \n",
       "99995  2018-03-24  2018/03/25 05:00\\n#BTC 937481円\\n#ETH 56467.8円\\...   \n",
       "99996  2017-10-11  A Quick 'How To' Guide On The Basics Of Buying...   \n",
       "99997  2018-08-03                                     @India_Bitcoin   \n",
       "99998  2018-08-03                                      @Bitcoin_Post   \n",
       "\n",
       "      Sentiment language  tweet_length  num_words  \\\n",
       "0      Positive       en            70          9   \n",
       "1      Negative       en            14          1   \n",
       "3      Positive       en           214         35   \n",
       "5      Negative       en           309         39   \n",
       "7      Negative       en            90         11   \n",
       "...         ...      ...           ...        ...   \n",
       "99994  Negative       en           126         18   \n",
       "99995  Negative       en           160         23   \n",
       "99996  Positive       en           164         23   \n",
       "99997  Negative       en            14          1   \n",
       "99998  Negative       en            13          1   \n",
       "\n",
       "                                              clean_text  \n",
       "0               bitcoin price breaks  here is why quartz  \n",
       "1                                           indiabitcoin  \n",
       "3      other services includes buying and selling of ...  \n",
       "5      when changing your password is not an much of ...  \n",
       "7      can you collect bitcoin in a lottery mood btc ...  \n",
       "...                                                  ...  \n",
       "99994  current price   node count  total accounts  co...  \n",
       "99995  btc  eth   etc   bch   xrp  xem   lsk   mona  ...  \n",
       "99996  a quick how to guide on the basics of buying a...  \n",
       "99997                                       indiabitcoin  \n",
       "99998                                        bitcoinpost  \n",
       "\n",
       "[55998 rows x 7 columns]"
      ]
     },
     "execution_count": 78,
     "metadata": {},
     "output_type": "execute_result"
    }
   ],
   "source": [
    "datatwt = cleaner(dftwt)\n",
    "datatwt"
   ]
  },
  {
   "cell_type": "markdown",
   "metadata": {},
   "source": [
    "Previously, it was known that the number of neutral sentiments was only 0.03%, so from there I chose to delete the data label because the number was too small."
   ]
  },
  {
   "cell_type": "code",
   "execution_count": 79,
   "metadata": {},
   "outputs": [],
   "source": [
    "#deleting Sentiment Neutral by Index\n",
    "datatwt = datatwt.drop(datatwt[datatwt.Sentiment == 'Neutral'].index)"
   ]
  },
  {
   "cell_type": "code",
   "execution_count": 80,
   "metadata": {},
   "outputs": [
    {
     "data": {
      "text/html": [
       "<div>\n",
       "<style scoped>\n",
       "    .dataframe tbody tr th:only-of-type {\n",
       "        vertical-align: middle;\n",
       "    }\n",
       "\n",
       "    .dataframe tbody tr th {\n",
       "        vertical-align: top;\n",
       "    }\n",
       "\n",
       "    .dataframe thead th {\n",
       "        text-align: right;\n",
       "    }\n",
       "</style>\n",
       "<table border=\"1\" class=\"dataframe\">\n",
       "  <thead>\n",
       "    <tr style=\"text-align: right;\">\n",
       "      <th></th>\n",
       "      <th>Date</th>\n",
       "      <th>text</th>\n",
       "      <th>Sentiment</th>\n",
       "      <th>language</th>\n",
       "      <th>tweet_length</th>\n",
       "      <th>num_words</th>\n",
       "      <th>clean_text</th>\n",
       "    </tr>\n",
       "  </thead>\n",
       "  <tbody>\n",
       "    <tr>\n",
       "      <th>0</th>\n",
       "      <td>2017-08-13</td>\n",
       "      <td>Bitcoin price breaks $4000. Here's why - Quart...</td>\n",
       "      <td>Positive</td>\n",
       "      <td>en</td>\n",
       "      <td>70</td>\n",
       "      <td>9</td>\n",
       "      <td>bitcoin price breaks  here is why quartz</td>\n",
       "    </tr>\n",
       "    <tr>\n",
       "      <th>1</th>\n",
       "      <td>2018-08-03</td>\n",
       "      <td>@India_Bitcoin</td>\n",
       "      <td>Negative</td>\n",
       "      <td>en</td>\n",
       "      <td>14</td>\n",
       "      <td>1</td>\n",
       "      <td>indiabitcoin</td>\n",
       "    </tr>\n",
       "    <tr>\n",
       "      <th>3</th>\n",
       "      <td>2018-11-28</td>\n",
       "      <td>Other Services includes \\n• Buying and selling...</td>\n",
       "      <td>Positive</td>\n",
       "      <td>en</td>\n",
       "      <td>214</td>\n",
       "      <td>35</td>\n",
       "      <td>other services includes buying and selling of ...</td>\n",
       "    </tr>\n",
       "    <tr>\n",
       "      <th>5</th>\n",
       "      <td>2017-12-08</td>\n",
       "      <td>When changing your #password is not an much of...</td>\n",
       "      <td>Negative</td>\n",
       "      <td>en</td>\n",
       "      <td>309</td>\n",
       "      <td>39</td>\n",
       "      <td>when changing your password is not an much of ...</td>\n",
       "    </tr>\n",
       "    <tr>\n",
       "      <th>7</th>\n",
       "      <td>2017-12-08</td>\n",
       "      <td>Can you collect Bitcoin in a lottery mood?\\n\\n...</td>\n",
       "      <td>Negative</td>\n",
       "      <td>en</td>\n",
       "      <td>90</td>\n",
       "      <td>11</td>\n",
       "      <td>can you collect bitcoin in a lottery mood btc ...</td>\n",
       "    </tr>\n",
       "    <tr>\n",
       "      <th>...</th>\n",
       "      <td>...</td>\n",
       "      <td>...</td>\n",
       "      <td>...</td>\n",
       "      <td>...</td>\n",
       "      <td>...</td>\n",
       "      <td>...</td>\n",
       "      <td>...</td>\n",
       "    </tr>\n",
       "    <tr>\n",
       "      <th>99994</th>\n",
       "      <td>2018-11-03</td>\n",
       "      <td>Current price: $0.022563 \\nNode count: 1074 \\n...</td>\n",
       "      <td>Negative</td>\n",
       "      <td>en</td>\n",
       "      <td>126</td>\n",
       "      <td>18</td>\n",
       "      <td>current price   node count  total accounts  co...</td>\n",
       "    </tr>\n",
       "    <tr>\n",
       "      <th>99995</th>\n",
       "      <td>2018-03-24</td>\n",
       "      <td>2018/03/25 05:00\\n#BTC 937481円\\n#ETH 56467.8円\\...</td>\n",
       "      <td>Negative</td>\n",
       "      <td>en</td>\n",
       "      <td>160</td>\n",
       "      <td>23</td>\n",
       "      <td>btc  eth   etc   bch   xrp  xem   lsk   mona  ...</td>\n",
       "    </tr>\n",
       "    <tr>\n",
       "      <th>99996</th>\n",
       "      <td>2017-10-11</td>\n",
       "      <td>A Quick 'How To' Guide On The Basics Of Buying...</td>\n",
       "      <td>Positive</td>\n",
       "      <td>en</td>\n",
       "      <td>164</td>\n",
       "      <td>23</td>\n",
       "      <td>a quick how to guide on the basics of buying a...</td>\n",
       "    </tr>\n",
       "    <tr>\n",
       "      <th>99997</th>\n",
       "      <td>2018-08-03</td>\n",
       "      <td>@India_Bitcoin</td>\n",
       "      <td>Negative</td>\n",
       "      <td>en</td>\n",
       "      <td>14</td>\n",
       "      <td>1</td>\n",
       "      <td>indiabitcoin</td>\n",
       "    </tr>\n",
       "    <tr>\n",
       "      <th>99998</th>\n",
       "      <td>2018-08-03</td>\n",
       "      <td>@Bitcoin_Post</td>\n",
       "      <td>Negative</td>\n",
       "      <td>en</td>\n",
       "      <td>13</td>\n",
       "      <td>1</td>\n",
       "      <td>bitcoinpost</td>\n",
       "    </tr>\n",
       "  </tbody>\n",
       "</table>\n",
       "<p>55983 rows × 7 columns</p>\n",
       "</div>"
      ],
      "text/plain": [
       "             Date                                               text  \\\n",
       "0      2017-08-13  Bitcoin price breaks $4000. Here's why - Quart...   \n",
       "1      2018-08-03                                     @India_Bitcoin   \n",
       "3      2018-11-28  Other Services includes \\n• Buying and selling...   \n",
       "5      2017-12-08  When changing your #password is not an much of...   \n",
       "7      2017-12-08  Can you collect Bitcoin in a lottery mood?\\n\\n...   \n",
       "...           ...                                                ...   \n",
       "99994  2018-11-03  Current price: $0.022563 \\nNode count: 1074 \\n...   \n",
       "99995  2018-03-24  2018/03/25 05:00\\n#BTC 937481円\\n#ETH 56467.8円\\...   \n",
       "99996  2017-10-11  A Quick 'How To' Guide On The Basics Of Buying...   \n",
       "99997  2018-08-03                                     @India_Bitcoin   \n",
       "99998  2018-08-03                                      @Bitcoin_Post   \n",
       "\n",
       "      Sentiment language  tweet_length  num_words  \\\n",
       "0      Positive       en            70          9   \n",
       "1      Negative       en            14          1   \n",
       "3      Positive       en           214         35   \n",
       "5      Negative       en           309         39   \n",
       "7      Negative       en            90         11   \n",
       "...         ...      ...           ...        ...   \n",
       "99994  Negative       en           126         18   \n",
       "99995  Negative       en           160         23   \n",
       "99996  Positive       en           164         23   \n",
       "99997  Negative       en            14          1   \n",
       "99998  Negative       en            13          1   \n",
       "\n",
       "                                              clean_text  \n",
       "0               bitcoin price breaks  here is why quartz  \n",
       "1                                           indiabitcoin  \n",
       "3      other services includes buying and selling of ...  \n",
       "5      when changing your password is not an much of ...  \n",
       "7      can you collect bitcoin in a lottery mood btc ...  \n",
       "...                                                  ...  \n",
       "99994  current price   node count  total accounts  co...  \n",
       "99995  btc  eth   etc   bch   xrp  xem   lsk   mona  ...  \n",
       "99996  a quick how to guide on the basics of buying a...  \n",
       "99997                                       indiabitcoin  \n",
       "99998                                        bitcoinpost  \n",
       "\n",
       "[55983 rows x 7 columns]"
      ]
     },
     "execution_count": 80,
     "metadata": {},
     "output_type": "execute_result"
    }
   ],
   "source": [
    "datatwt"
   ]
  },
  {
   "cell_type": "markdown",
   "metadata": {},
   "source": [
    "## Splitting"
   ]
  },
  {
   "cell_type": "markdown",
   "metadata": {},
   "source": [
    "The tweet that will be used is the tweet that has been cleaned (clean_text) and the label that will be predicted is the Sentiment column."
   ]
  },
  {
   "cell_type": "code",
   "execution_count": 81,
   "metadata": {},
   "outputs": [],
   "source": [
    "#splitting X and y\n",
    "X = datatwt['clean_text']\n",
    "y = datatwt['Sentiment']"
   ]
  },
  {
   "cell_type": "code",
   "execution_count": 82,
   "metadata": {},
   "outputs": [
    {
     "data": {
      "text/plain": [
       "0                 bitcoin price breaks  here is why quartz\n",
       "1                                             indiabitcoin\n",
       "3        other services includes buying and selling of ...\n",
       "5        when changing your password is not an much of ...\n",
       "7        can you collect bitcoin in a lottery mood btc ...\n",
       "                               ...                        \n",
       "99994    current price   node count  total accounts  co...\n",
       "99995    btc  eth   etc   bch   xrp  xem   lsk   mona  ...\n",
       "99996    a quick how to guide on the basics of buying a...\n",
       "99997                                         indiabitcoin\n",
       "99998                                          bitcoinpost\n",
       "Name: clean_text, Length: 55983, dtype: object"
      ]
     },
     "execution_count": 82,
     "metadata": {},
     "output_type": "execute_result"
    }
   ],
   "source": [
    "#check X\n",
    "X"
   ]
  },
  {
   "cell_type": "code",
   "execution_count": 83,
   "metadata": {},
   "outputs": [
    {
     "data": {
      "text/plain": [
       "0        Positive\n",
       "1        Negative\n",
       "3        Positive\n",
       "5        Negative\n",
       "7        Negative\n",
       "           ...   \n",
       "99994    Negative\n",
       "99995    Negative\n",
       "99996    Positive\n",
       "99997    Negative\n",
       "99998    Negative\n",
       "Name: Sentiment, Length: 55983, dtype: object"
      ]
     },
     "execution_count": 83,
     "metadata": {},
     "output_type": "execute_result"
    }
   ],
   "source": [
    "#check y\n",
    "y"
   ]
  },
  {
   "cell_type": "code",
   "execution_count": 84,
   "metadata": {},
   "outputs": [
    {
     "data": {
      "text/plain": [
       "array(['Positive', 'Negative'], dtype=object)"
      ]
     },
     "execution_count": 84,
     "metadata": {},
     "output_type": "execute_result"
    }
   ],
   "source": [
    "y.unique()"
   ]
  },
  {
   "cell_type": "code",
   "execution_count": 85,
   "metadata": {},
   "outputs": [],
   "source": [
    "# Split train and test\n",
    "X_train , X_test, y_train, y_test = train_test_split(X, y, test_size=0.2, random_state=16)\n",
    "\n",
    "# Split train and val\n",
    "X_train, X_val, y_train, y_val = train_test_split(X_train, y_train , test_size=0.1, random_state=16)"
   ]
  },
  {
   "cell_type": "code",
   "execution_count": 86,
   "metadata": {},
   "outputs": [
    {
     "name": "stdout",
     "output_type": "stream",
     "text": [
      "Train Shape:\n",
      "X_train shape (40307,)\n",
      "y_train shape (40307,)\n",
      " \n",
      "Test Shape:\n",
      "X_test shape (11197,)\n",
      "y_test shape (11197,)\n",
      " \n",
      "Val Shape:\n",
      "X_val shape (4479,)\n",
      "y_val shape (4479,)\n"
     ]
    }
   ],
   "source": [
    "# Melihat shape dari masing - masing set\n",
    "\n",
    "print('Train Shape:')\n",
    "print('X_train shape', X_train.shape)\n",
    "print('y_train shape', y_train.shape)\n",
    "print(' ')\n",
    "print('Test Shape:')\n",
    "print('X_test shape', X_test.shape)\n",
    "print('y_test shape', y_test.shape)\n",
    "print(' ')\n",
    "print('Val Shape:')\n",
    "print('X_val shape', X_val.shape)\n",
    "print('y_val shape', y_val.shape)\n"
   ]
  },
  {
   "cell_type": "code",
   "execution_count": 87,
   "metadata": {},
   "outputs": [],
   "source": [
    "#copy set\n",
    "\n",
    "X_train_copied = X_train.copy()\n",
    "X_val_copied = X_val.copy()\n",
    "X_test_copied= X_test.copy()"
   ]
  },
  {
   "cell_type": "code",
   "execution_count": 88,
   "metadata": {},
   "outputs": [],
   "source": [
    "#copy set\n",
    "\n",
    "y_train_c = y_train.copy()\n",
    "y_test_c = y_test.copy()\n",
    "y_val_c = y_val.copy()"
   ]
  },
  {
   "cell_type": "markdown",
   "metadata": {},
   "source": [
    "I'll do some preprocessing using the data set to see what the difference is."
   ]
  },
  {
   "cell_type": "code",
   "execution_count": 89,
   "metadata": {},
   "outputs": [
    {
     "data": {
      "text/html": [
       "<div>\n",
       "<style scoped>\n",
       "    .dataframe tbody tr th:only-of-type {\n",
       "        vertical-align: middle;\n",
       "    }\n",
       "\n",
       "    .dataframe tbody tr th {\n",
       "        vertical-align: top;\n",
       "    }\n",
       "\n",
       "    .dataframe thead th {\n",
       "        text-align: right;\n",
       "    }\n",
       "</style>\n",
       "<table border=\"1\" class=\"dataframe\">\n",
       "  <thead>\n",
       "    <tr style=\"text-align: right;\">\n",
       "      <th></th>\n",
       "      <th>text</th>\n",
       "    </tr>\n",
       "  </thead>\n",
       "  <tbody>\n",
       "    <tr>\n",
       "      <th>72288</th>\n",
       "      <td>live profit      buy b     vircurex sell    bi...</td>\n",
       "    </tr>\n",
       "    <tr>\n",
       "      <th>6068</th>\n",
       "      <td>gmt spindle price spd btc yobit   hitbtc   liv...</td>\n",
       "    </tr>\n",
       "    <tr>\n",
       "      <th>37678</th>\n",
       "      <td>swift reveals future global payment tech block...</td>\n",
       "    </tr>\n",
       "    <tr>\n",
       "      <th>89850</th>\n",
       "      <td>i am holding till pennies do or die dgaf attit...</td>\n",
       "    </tr>\n",
       "    <tr>\n",
       "      <th>81612</th>\n",
       "      <td>bitcoinpost</td>\n",
       "    </tr>\n",
       "    <tr>\n",
       "      <th>...</th>\n",
       "      <td>...</td>\n",
       "    </tr>\n",
       "    <tr>\n",
       "      <th>31046</th>\n",
       "      <td>india has effectively banned cryptocurrencies ...</td>\n",
       "    </tr>\n",
       "    <tr>\n",
       "      <th>95582</th>\n",
       "      <td>imt airdrop and whitelisting get  imt token wo...</td>\n",
       "    </tr>\n",
       "    <tr>\n",
       "      <th>63197</th>\n",
       "      <td>may      utc          bitcoin btc pic twitter ...</td>\n",
       "    </tr>\n",
       "    <tr>\n",
       "      <th>7151</th>\n",
       "      <td>monacoin mona       btc</td>\n",
       "    </tr>\n",
       "    <tr>\n",
       "      <th>79367</th>\n",
       "      <td>bitcoinpost</td>\n",
       "    </tr>\n",
       "  </tbody>\n",
       "</table>\n",
       "<p>40307 rows × 1 columns</p>\n",
       "</div>"
      ],
      "text/plain": [
       "                                                    text\n",
       "72288  live profit      buy b     vircurex sell    bi...\n",
       "6068   gmt spindle price spd btc yobit   hitbtc   liv...\n",
       "37678  swift reveals future global payment tech block...\n",
       "89850  i am holding till pennies do or die dgaf attit...\n",
       "81612                                        bitcoinpost\n",
       "...                                                  ...\n",
       "31046  india has effectively banned cryptocurrencies ...\n",
       "95582  imt airdrop and whitelisting get  imt token wo...\n",
       "63197  may      utc          bitcoin btc pic twitter ...\n",
       "7151                             monacoin mona       btc\n",
       "79367                                        bitcoinpost\n",
       "\n",
       "[40307 rows x 1 columns]"
      ]
     },
     "execution_count": 89,
     "metadata": {},
     "output_type": "execute_result"
    }
   ],
   "source": [
    "train = pd.DataFrame({'text': X_train_copied})\n",
    "train"
   ]
  },
  {
   "cell_type": "markdown",
   "metadata": {},
   "source": [
    "## Tokenization"
   ]
  },
  {
   "cell_type": "markdown",
   "metadata": {},
   "source": [
    "Tokenization is done to separate each word in a sentence.\n",
    "\n",
    "Input: I eat tomatoes\n",
    "\n",
    "Output : Me, eat, tomatoes"
   ]
  },
  {
   "cell_type": "code",
   "execution_count": 90,
   "metadata": {},
   "outputs": [],
   "source": [
    "# function for tokenization\n",
    "from nltk.tokenize import word_tokenize\n",
    "def tokenization(text):\n",
    "    tokens = word_tokenize(text)\n",
    "    return tokens\n",
    "\n",
    "#apply fuction to columns\n",
    "\n",
    "train['text_tokenied'] = train['text'].apply(lambda row: tokenization(row))"
   ]
  },
  {
   "cell_type": "code",
   "execution_count": 91,
   "metadata": {},
   "outputs": [
    {
     "data": {
      "text/html": [
       "<div>\n",
       "<style scoped>\n",
       "    .dataframe tbody tr th:only-of-type {\n",
       "        vertical-align: middle;\n",
       "    }\n",
       "\n",
       "    .dataframe tbody tr th {\n",
       "        vertical-align: top;\n",
       "    }\n",
       "\n",
       "    .dataframe thead th {\n",
       "        text-align: right;\n",
       "    }\n",
       "</style>\n",
       "<table border=\"1\" class=\"dataframe\">\n",
       "  <thead>\n",
       "    <tr style=\"text-align: right;\">\n",
       "      <th></th>\n",
       "      <th>text</th>\n",
       "      <th>text_tokenied</th>\n",
       "    </tr>\n",
       "  </thead>\n",
       "  <tbody>\n",
       "    <tr>\n",
       "      <th>72288</th>\n",
       "      <td>live profit      buy b     vircurex sell    bi...</td>\n",
       "      <td>[live, profit, buy, b, vircurex, sell, bitkona...</td>\n",
       "    </tr>\n",
       "    <tr>\n",
       "      <th>6068</th>\n",
       "      <td>gmt spindle price spd btc yobit   hitbtc   liv...</td>\n",
       "      <td>[gmt, spindle, price, spd, btc, yobit, hitbtc,...</td>\n",
       "    </tr>\n",
       "    <tr>\n",
       "      <th>37678</th>\n",
       "      <td>swift reveals future global payment tech block...</td>\n",
       "      <td>[swift, reveals, future, global, payment, tech...</td>\n",
       "    </tr>\n",
       "    <tr>\n",
       "      <th>89850</th>\n",
       "      <td>i am holding till pennies do or die dgaf attit...</td>\n",
       "      <td>[i, am, holding, till, pennies, do, or, die, d...</td>\n",
       "    </tr>\n",
       "    <tr>\n",
       "      <th>81612</th>\n",
       "      <td>bitcoinpost</td>\n",
       "      <td>[bitcoinpost]</td>\n",
       "    </tr>\n",
       "    <tr>\n",
       "      <th>...</th>\n",
       "      <td>...</td>\n",
       "      <td>...</td>\n",
       "    </tr>\n",
       "    <tr>\n",
       "      <th>31046</th>\n",
       "      <td>india has effectively banned cryptocurrencies ...</td>\n",
       "      <td>[india, has, effectively, banned, cryptocurren...</td>\n",
       "    </tr>\n",
       "    <tr>\n",
       "      <th>95582</th>\n",
       "      <td>imt airdrop and whitelisting get  imt token wo...</td>\n",
       "      <td>[imt, airdrop, and, whitelisting, get, imt, to...</td>\n",
       "    </tr>\n",
       "    <tr>\n",
       "      <th>63197</th>\n",
       "      <td>may      utc          bitcoin btc pic twitter ...</td>\n",
       "      <td>[may, utc, bitcoin, btc, pic, twitter, com, ft...</td>\n",
       "    </tr>\n",
       "    <tr>\n",
       "      <th>7151</th>\n",
       "      <td>monacoin mona       btc</td>\n",
       "      <td>[monacoin, mona, btc]</td>\n",
       "    </tr>\n",
       "    <tr>\n",
       "      <th>79367</th>\n",
       "      <td>bitcoinpost</td>\n",
       "      <td>[bitcoinpost]</td>\n",
       "    </tr>\n",
       "  </tbody>\n",
       "</table>\n",
       "<p>40307 rows × 2 columns</p>\n",
       "</div>"
      ],
      "text/plain": [
       "                                                    text  \\\n",
       "72288  live profit      buy b     vircurex sell    bi...   \n",
       "6068   gmt spindle price spd btc yobit   hitbtc   liv...   \n",
       "37678  swift reveals future global payment tech block...   \n",
       "89850  i am holding till pennies do or die dgaf attit...   \n",
       "81612                                        bitcoinpost   \n",
       "...                                                  ...   \n",
       "31046  india has effectively banned cryptocurrencies ...   \n",
       "95582  imt airdrop and whitelisting get  imt token wo...   \n",
       "63197  may      utc          bitcoin btc pic twitter ...   \n",
       "7151                             monacoin mona       btc   \n",
       "79367                                        bitcoinpost   \n",
       "\n",
       "                                           text_tokenied  \n",
       "72288  [live, profit, buy, b, vircurex, sell, bitkona...  \n",
       "6068   [gmt, spindle, price, spd, btc, yobit, hitbtc,...  \n",
       "37678  [swift, reveals, future, global, payment, tech...  \n",
       "89850  [i, am, holding, till, pennies, do, or, die, d...  \n",
       "81612                                      [bitcoinpost]  \n",
       "...                                                  ...  \n",
       "31046  [india, has, effectively, banned, cryptocurren...  \n",
       "95582  [imt, airdrop, and, whitelisting, get, imt, to...  \n",
       "63197  [may, utc, bitcoin, btc, pic, twitter, com, ft...  \n",
       "7151                               [monacoin, mona, btc]  \n",
       "79367                                      [bitcoinpost]  \n",
       "\n",
       "[40307 rows x 2 columns]"
      ]
     },
     "execution_count": 91,
     "metadata": {},
     "output_type": "execute_result"
    }
   ],
   "source": [
    "train"
   ]
  },
  {
   "cell_type": "markdown",
   "metadata": {},
   "source": [
    "## Stopwords Removal"
   ]
  },
  {
   "cell_type": "markdown",
   "metadata": {},
   "source": [
    "Stopwords themselves are words that are very commonly used. In this section, the most frequently used words will be removed."
   ]
  },
  {
   "cell_type": "code",
   "execution_count": 93,
   "metadata": {},
   "outputs": [
    {
     "data": {
      "text/plain": [
       "['i', 'me', 'my', 'myself', 'we', 'our', 'ours', 'ourselves', 'you', \"you're\"]"
      ]
     },
     "execution_count": 93,
     "metadata": {},
     "output_type": "execute_result"
    }
   ],
   "source": [
    "#contoh stopwords yang terdeteksi\n",
    "stopwords = stopwords.words('english')\n",
    "stopwords[:10]"
   ]
  },
  {
   "cell_type": "markdown",
   "metadata": {},
   "source": [
    "Here are examples of frequently used words."
   ]
  },
  {
   "cell_type": "code",
   "execution_count": 94,
   "metadata": {},
   "outputs": [
    {
     "data": {
      "text/html": [
       "<div>\n",
       "<style scoped>\n",
       "    .dataframe tbody tr th:only-of-type {\n",
       "        vertical-align: middle;\n",
       "    }\n",
       "\n",
       "    .dataframe tbody tr th {\n",
       "        vertical-align: top;\n",
       "    }\n",
       "\n",
       "    .dataframe thead th {\n",
       "        text-align: right;\n",
       "    }\n",
       "</style>\n",
       "<table border=\"1\" class=\"dataframe\">\n",
       "  <thead>\n",
       "    <tr style=\"text-align: right;\">\n",
       "      <th></th>\n",
       "      <th>text</th>\n",
       "      <th>text_tokenied</th>\n",
       "      <th>stopwords</th>\n",
       "    </tr>\n",
       "  </thead>\n",
       "  <tbody>\n",
       "    <tr>\n",
       "      <th>72288</th>\n",
       "      <td>live profit      buy b     vircurex sell    bi...</td>\n",
       "      <td>[live, profit, buy, b, vircurex, sell, bitkona...</td>\n",
       "      <td>[live, profit, buy, b, vircurex, sell, bitkona...</td>\n",
       "    </tr>\n",
       "    <tr>\n",
       "      <th>6068</th>\n",
       "      <td>gmt spindle price spd btc yobit   hitbtc   liv...</td>\n",
       "      <td>[gmt, spindle, price, spd, btc, yobit, hitbtc,...</td>\n",
       "      <td>[gmt, spindle, price, spd, btc, yobit, hitbtc,...</td>\n",
       "    </tr>\n",
       "    <tr>\n",
       "      <th>37678</th>\n",
       "      <td>swift reveals future global payment tech block...</td>\n",
       "      <td>[swift, reveals, future, global, payment, tech...</td>\n",
       "      <td>[swift, reveals, future, global, payment, tech...</td>\n",
       "    </tr>\n",
       "    <tr>\n",
       "      <th>89850</th>\n",
       "      <td>i am holding till pennies do or die dgaf attit...</td>\n",
       "      <td>[i, am, holding, till, pennies, do, or, die, d...</td>\n",
       "      <td>[holding, till, pennies, die, dgaf, attitude, ...</td>\n",
       "    </tr>\n",
       "    <tr>\n",
       "      <th>81612</th>\n",
       "      <td>bitcoinpost</td>\n",
       "      <td>[bitcoinpost]</td>\n",
       "      <td>[bitcoinpost]</td>\n",
       "    </tr>\n",
       "    <tr>\n",
       "      <th>...</th>\n",
       "      <td>...</td>\n",
       "      <td>...</td>\n",
       "      <td>...</td>\n",
       "    </tr>\n",
       "    <tr>\n",
       "      <th>31046</th>\n",
       "      <td>india has effectively banned cryptocurrencies ...</td>\n",
       "      <td>[india, has, effectively, banned, cryptocurren...</td>\n",
       "      <td>[india, effectively, banned, cryptocurrencies,...</td>\n",
       "    </tr>\n",
       "    <tr>\n",
       "      <th>95582</th>\n",
       "      <td>imt airdrop and whitelisting get  imt token wo...</td>\n",
       "      <td>[imt, airdrop, and, whitelisting, get, imt, to...</td>\n",
       "      <td>[imt, airdrop, whitelisting, get, imt, token, ...</td>\n",
       "    </tr>\n",
       "    <tr>\n",
       "      <th>63197</th>\n",
       "      <td>may      utc          bitcoin btc pic twitter ...</td>\n",
       "      <td>[may, utc, bitcoin, btc, pic, twitter, com, ft...</td>\n",
       "      <td>[may, utc, bitcoin, btc, pic, twitter, com, ft...</td>\n",
       "    </tr>\n",
       "    <tr>\n",
       "      <th>7151</th>\n",
       "      <td>monacoin mona       btc</td>\n",
       "      <td>[monacoin, mona, btc]</td>\n",
       "      <td>[monacoin, mona, btc]</td>\n",
       "    </tr>\n",
       "    <tr>\n",
       "      <th>79367</th>\n",
       "      <td>bitcoinpost</td>\n",
       "      <td>[bitcoinpost]</td>\n",
       "      <td>[bitcoinpost]</td>\n",
       "    </tr>\n",
       "  </tbody>\n",
       "</table>\n",
       "<p>40307 rows × 3 columns</p>\n",
       "</div>"
      ],
      "text/plain": [
       "                                                    text  \\\n",
       "72288  live profit      buy b     vircurex sell    bi...   \n",
       "6068   gmt spindle price spd btc yobit   hitbtc   liv...   \n",
       "37678  swift reveals future global payment tech block...   \n",
       "89850  i am holding till pennies do or die dgaf attit...   \n",
       "81612                                        bitcoinpost   \n",
       "...                                                  ...   \n",
       "31046  india has effectively banned cryptocurrencies ...   \n",
       "95582  imt airdrop and whitelisting get  imt token wo...   \n",
       "63197  may      utc          bitcoin btc pic twitter ...   \n",
       "7151                             monacoin mona       btc   \n",
       "79367                                        bitcoinpost   \n",
       "\n",
       "                                           text_tokenied  \\\n",
       "72288  [live, profit, buy, b, vircurex, sell, bitkona...   \n",
       "6068   [gmt, spindle, price, spd, btc, yobit, hitbtc,...   \n",
       "37678  [swift, reveals, future, global, payment, tech...   \n",
       "89850  [i, am, holding, till, pennies, do, or, die, d...   \n",
       "81612                                      [bitcoinpost]   \n",
       "...                                                  ...   \n",
       "31046  [india, has, effectively, banned, cryptocurren...   \n",
       "95582  [imt, airdrop, and, whitelisting, get, imt, to...   \n",
       "63197  [may, utc, bitcoin, btc, pic, twitter, com, ft...   \n",
       "7151                               [monacoin, mona, btc]   \n",
       "79367                                      [bitcoinpost]   \n",
       "\n",
       "                                               stopwords  \n",
       "72288  [live, profit, buy, b, vircurex, sell, bitkona...  \n",
       "6068   [gmt, spindle, price, spd, btc, yobit, hitbtc,...  \n",
       "37678  [swift, reveals, future, global, payment, tech...  \n",
       "89850  [holding, till, pennies, die, dgaf, attitude, ...  \n",
       "81612                                      [bitcoinpost]  \n",
       "...                                                  ...  \n",
       "31046  [india, effectively, banned, cryptocurrencies,...  \n",
       "95582  [imt, airdrop, whitelisting, get, imt, token, ...  \n",
       "63197  [may, utc, bitcoin, btc, pic, twitter, com, ft...  \n",
       "7151                               [monacoin, mona, btc]  \n",
       "79367                                      [bitcoinpost]  \n",
       "\n",
       "[40307 rows x 3 columns]"
      ]
     },
     "execution_count": 94,
     "metadata": {},
     "output_type": "execute_result"
    }
   ],
   "source": [
    "#function stopwords\n",
    "def remove_stopwords(text):\n",
    "    output = [i for i in text if i not in stopwords]\n",
    "    return output\n",
    "\n",
    "#apply the fuction\n",
    "train['stopwords'] = train['text_tokenied'].apply(lambda row: remove_stopwords(row))\n",
    "\n",
    "train"
   ]
  },
  {
   "cell_type": "markdown",
   "metadata": {},
   "source": [
    "## Lemmatization"
   ]
  },
  {
   "cell_type": "markdown",
   "metadata": {},
   "source": [
    "Lemmanitization can be interpreted as a more advanced preprocessing than stemming where it will equalize a word. Examples of eaten and eat have the same meaning, we want eaten eaten to still be interpreted by the computer, this is where the function of lemmatization is."
   ]
  },
  {
   "cell_type": "code",
   "execution_count": 96,
   "metadata": {},
   "outputs": [
    {
     "name": "stderr",
     "output_type": "stream",
     "text": [
      "[nltk_data] Downloading package wordnet to\n",
      "[nltk_data]     C:\\Users\\HP\\AppData\\Roaming\\nltk_data...\n",
      "[nltk_data]   Package wordnet is already up-to-date!\n"
     ]
    },
    {
     "data": {
      "text/plain": [
       "True"
      ]
     },
     "execution_count": 96,
     "metadata": {},
     "output_type": "execute_result"
    }
   ],
   "source": [
    "nltk.download('wordnet')"
   ]
  },
  {
   "cell_type": "code",
   "execution_count": 97,
   "metadata": {},
   "outputs": [
    {
     "name": "stderr",
     "output_type": "stream",
     "text": [
      "[nltk_data] Downloading package omw-1.4 to\n",
      "[nltk_data]     C:\\Users\\HP\\AppData\\Roaming\\nltk_data...\n",
      "[nltk_data]   Package omw-1.4 is already up-to-date!\n"
     ]
    },
    {
     "data": {
      "text/plain": [
       "True"
      ]
     },
     "execution_count": 97,
     "metadata": {},
     "output_type": "execute_result"
    }
   ],
   "source": [
    "nltk.download('omw-1.4')"
   ]
  },
  {
   "cell_type": "code",
   "execution_count": 98,
   "metadata": {},
   "outputs": [
    {
     "data": {
      "text/html": [
       "<div>\n",
       "<style scoped>\n",
       "    .dataframe tbody tr th:only-of-type {\n",
       "        vertical-align: middle;\n",
       "    }\n",
       "\n",
       "    .dataframe tbody tr th {\n",
       "        vertical-align: top;\n",
       "    }\n",
       "\n",
       "    .dataframe thead th {\n",
       "        text-align: right;\n",
       "    }\n",
       "</style>\n",
       "<table border=\"1\" class=\"dataframe\">\n",
       "  <thead>\n",
       "    <tr style=\"text-align: right;\">\n",
       "      <th></th>\n",
       "      <th>text</th>\n",
       "      <th>text_tokenied</th>\n",
       "      <th>stopwords</th>\n",
       "      <th>lemma</th>\n",
       "    </tr>\n",
       "  </thead>\n",
       "  <tbody>\n",
       "    <tr>\n",
       "      <th>72288</th>\n",
       "      <td>live profit      buy b     vircurex sell    bi...</td>\n",
       "      <td>[live, profit, buy, b, vircurex, sell, bitkona...</td>\n",
       "      <td>[live, profit, buy, b, vircurex, sell, bitkona...</td>\n",
       "      <td>[live, profit, buy, b, vircurex, sell, bitkona...</td>\n",
       "    </tr>\n",
       "    <tr>\n",
       "      <th>6068</th>\n",
       "      <td>gmt spindle price spd btc yobit   hitbtc   liv...</td>\n",
       "      <td>[gmt, spindle, price, spd, btc, yobit, hitbtc,...</td>\n",
       "      <td>[gmt, spindle, price, spd, btc, yobit, hitbtc,...</td>\n",
       "      <td>[gmt, spindle, price, spd, btc, yobit, hitbtc,...</td>\n",
       "    </tr>\n",
       "    <tr>\n",
       "      <th>37678</th>\n",
       "      <td>swift reveals future global payment tech block...</td>\n",
       "      <td>[swift, reveals, future, global, payment, tech...</td>\n",
       "      <td>[swift, reveals, future, global, payment, tech...</td>\n",
       "      <td>[swift, reveals, future, global, payment, tech...</td>\n",
       "    </tr>\n",
       "    <tr>\n",
       "      <th>89850</th>\n",
       "      <td>i am holding till pennies do or die dgaf attit...</td>\n",
       "      <td>[i, am, holding, till, pennies, do, or, die, d...</td>\n",
       "      <td>[holding, till, pennies, die, dgaf, attitude, ...</td>\n",
       "      <td>[holding, till, penny, die, dgaf, attitude, em...</td>\n",
       "    </tr>\n",
       "    <tr>\n",
       "      <th>81612</th>\n",
       "      <td>bitcoinpost</td>\n",
       "      <td>[bitcoinpost]</td>\n",
       "      <td>[bitcoinpost]</td>\n",
       "      <td>[bitcoinpost]</td>\n",
       "    </tr>\n",
       "  </tbody>\n",
       "</table>\n",
       "</div>"
      ],
      "text/plain": [
       "                                                    text  \\\n",
       "72288  live profit      buy b     vircurex sell    bi...   \n",
       "6068   gmt spindle price spd btc yobit   hitbtc   liv...   \n",
       "37678  swift reveals future global payment tech block...   \n",
       "89850  i am holding till pennies do or die dgaf attit...   \n",
       "81612                                        bitcoinpost   \n",
       "\n",
       "                                           text_tokenied  \\\n",
       "72288  [live, profit, buy, b, vircurex, sell, bitkona...   \n",
       "6068   [gmt, spindle, price, spd, btc, yobit, hitbtc,...   \n",
       "37678  [swift, reveals, future, global, payment, tech...   \n",
       "89850  [i, am, holding, till, pennies, do, or, die, d...   \n",
       "81612                                      [bitcoinpost]   \n",
       "\n",
       "                                               stopwords  \\\n",
       "72288  [live, profit, buy, b, vircurex, sell, bitkona...   \n",
       "6068   [gmt, spindle, price, spd, btc, yobit, hitbtc,...   \n",
       "37678  [swift, reveals, future, global, payment, tech...   \n",
       "89850  [holding, till, pennies, die, dgaf, attitude, ...   \n",
       "81612                                      [bitcoinpost]   \n",
       "\n",
       "                                                   lemma  \n",
       "72288  [live, profit, buy, b, vircurex, sell, bitkona...  \n",
       "6068   [gmt, spindle, price, spd, btc, yobit, hitbtc,...  \n",
       "37678  [swift, reveals, future, global, payment, tech...  \n",
       "89850  [holding, till, penny, die, dgaf, attitude, em...  \n",
       "81612                                      [bitcoinpost]  "
      ]
     },
     "execution_count": 98,
     "metadata": {},
     "output_type": "execute_result"
    }
   ],
   "source": [
    "#defining the object for Lemmatization\n",
    "word_lemmatizer = WordNetLemmatizer()\n",
    "\n",
    "#function of lemmatization\n",
    "def lemmatizer(text):\n",
    "    lemma = [word_lemmatizer.lemmatize(word) for word in text]\n",
    "    return lemma\n",
    "\n",
    "#apply fuction\n",
    "\n",
    "train['lemma'] = train['stopwords'].apply(lambda row: lemmatizer(row))\n",
    "\n",
    "train.head()"
   ]
  },
  {
   "cell_type": "markdown",
   "metadata": {},
   "source": [
    "## Fuction for apply"
   ]
  },
  {
   "cell_type": "code",
   "execution_count": 99,
   "metadata": {},
   "outputs": [],
   "source": [
    "#make a function of preprocess\n",
    "def cleaned(text):\n",
    "    text = word_tokenize(text)\n",
    "    text = [i for i in text if i not in stopwords]\n",
    "    text = [word_lemmatizer.lemmatize(word) for word in text]\n",
    "    return text\n",
    "\n",
    "#apply fuction\n",
    "\n",
    "X_train = X_train.apply(lambda row: cleaned(row))\n",
    "X_val = X_val.apply(lambda row: cleaned(row))\n",
    "X_test = X_test.apply(lambda row: cleaned(row))"
   ]
  },
  {
   "cell_type": "markdown",
   "metadata": {},
   "source": [
    "## Label encoder"
   ]
  },
  {
   "cell_type": "markdown",
   "metadata": {},
   "source": [
    "Because the label is a string, so I did the encoder label first."
   ]
  },
  {
   "cell_type": "code",
   "execution_count": 100,
   "metadata": {},
   "outputs": [],
   "source": [
    "label = LabelEncoder()\n",
    "label.fit(y_train)\n",
    "\n",
    "y_train = label.transform(y_train)\n",
    "y_val = label.transform(y_val)\n",
    "y_test = label.transform(y_test)\n"
   ]
  },
  {
   "cell_type": "code",
   "execution_count": 101,
   "metadata": {},
   "outputs": [
    {
     "data": {
      "text/plain": [
       "array([0, 1, 1, ..., 0, 1, 0])"
      ]
     },
     "execution_count": 101,
     "metadata": {},
     "output_type": "execute_result"
    }
   ],
   "source": [
    "y_train"
   ]
  },
  {
   "cell_type": "code",
   "execution_count": 191,
   "metadata": {},
   "outputs": [
    {
     "data": {
      "text/plain": [
       "72288    Negative\n",
       "6068     Positive\n",
       "37678    Positive\n",
       "89850    Positive\n",
       "81612    Negative\n",
       "           ...   \n",
       "31046    Negative\n",
       "95582    Positive\n",
       "63197    Negative\n",
       "7151     Positive\n",
       "79367    Negative\n",
       "Name: Sentiment, Length: 40307, dtype: object"
      ]
     },
     "execution_count": 191,
     "metadata": {},
     "output_type": "execute_result"
    }
   ],
   "source": [
    "y_train_c"
   ]
  },
  {
   "cell_type": "markdown",
   "metadata": {},
   "source": [
    "## Text Vectorization"
   ]
  },
  {
   "cell_type": "markdown",
   "metadata": {},
   "source": [
    "Text vectorization is a step to convert words into numbers. basically this is done because the computer cannot read words/sentences, the computer can only read numbers.\n",
    "\n",
    "There are many ways to do text vectorization, what I choose now is to do it manually using the NLTK library."
   ]
  },
  {
   "cell_type": "code",
   "execution_count": 196,
   "metadata": {},
   "outputs": [],
   "source": [
    "t = Tokenizer(oov_token='UNK',num_words=10000)\n",
    "t.fit_on_texts(X_train)"
   ]
  },
  {
   "cell_type": "code",
   "execution_count": 197,
   "metadata": {},
   "outputs": [],
   "source": [
    "#Turns string into lists of integer indices\n",
    "X_train_seq = t.texts_to_sequences(X_train)\n",
    "X_val_seq = t.texts_to_sequences(X_val)\n",
    "X_test_seq = t.texts_to_sequences(X_test)"
   ]
  },
  {
   "cell_type": "code",
   "execution_count": 198,
   "metadata": {},
   "outputs": [
    {
     "name": "stdout",
     "output_type": "stream",
     "text": [
      "Found 36030 unique tokens.\n"
     ]
    }
   ],
   "source": [
    "# show the vocab\n",
    "word_index = t.word_index\n",
    "print('Found %s unique tokens.' % len(word_index))"
   ]
  },
  {
   "cell_type": "markdown",
   "metadata": {},
   "source": [
    "if we see there are 36030 words listed in the X_train data. but we only use 10000 only."
   ]
  },
  {
   "cell_type": "code",
   "execution_count": 199,
   "metadata": {},
   "outputs": [
    {
     "name": "stdout",
     "output_type": "stream",
     "text": [
      "10\n"
     ]
    }
   ],
   "source": [
    "# defining max length\n",
    "tem = 0\n",
    "for i in range(len(X_train_seq)):\n",
    "    tem += len(X_train_seq[i])\n",
    "maxlenght = int(tem/len(X_train_seq))\n",
    "print(maxlenght)"
   ]
  },
  {
   "cell_type": "markdown",
   "metadata": {},
   "source": [
    "the average number of words that is is 10."
   ]
  },
  {
   "cell_type": "code",
   "execution_count": 200,
   "metadata": {},
   "outputs": [],
   "source": [
    "\n",
    "X_train_done = pad_sequences(X_train_seq, maxlen = maxlenght, padding = 'post')\n",
    "X_val_done = pad_sequences(X_val_seq, maxlen = maxlenght, padding = 'post')\n",
    "X_test_done = pad_sequences(X_test_seq, maxlen = maxlenght, padding = 'post')"
   ]
  },
  {
   "cell_type": "markdown",
   "metadata": {},
   "source": [
    "padding is done to fill in the blanks of words, if the length of the word is only 3 and the average is 10, the padding process will do the filling of 3 words to 10 with the number 0\n",
    "\n",
    "\n",
    "example : [1,3,4,5]\n",
    "\n",
    "will be : [1,2,3,4,5,0,0,0,0,0]"
   ]
  },
  {
   "cell_type": "code",
   "execution_count": 201,
   "metadata": {},
   "outputs": [
    {
     "data": {
      "text/plain": [
       "array([ 141,  121,   20,  178,  784,   68, 2635,    2,    3,    0])"
      ]
     },
     "execution_count": 201,
     "metadata": {},
     "output_type": "execute_result"
    }
   ],
   "source": [
    "X_train_done[0]"
   ]
  },
  {
   "cell_type": "markdown",
   "metadata": {},
   "source": [
    "## Pipeline"
   ]
  },
  {
   "cell_type": "code",
   "execution_count": 202,
   "metadata": {},
   "outputs": [],
   "source": [
    "#pipeline training set\n",
    "train_set = tf.data.Dataset.from_tensor_slices((X_train_done,y_train)).shuffle(10000).batch(25)\n",
    "\n",
    "#pipeline validation set\n",
    "val_set = tf.data.Dataset.from_tensor_slices((X_val_done,y_val)).shuffle(10000).batch(25)\n",
    "\n",
    "#pipeline test set\n",
    "test_set = tf.data.Dataset.from_tensor_slices((X_test_done,y_test)).shuffle(10000).batch(25)"
   ]
  },
  {
   "cell_type": "markdown",
   "metadata": {},
   "source": [
    "# **MODEL DEFINITION**"
   ]
  },
  {
   "cell_type": "markdown",
   "metadata": {},
   "source": [
    "Here I use the embedding layer and also the LSTM layer."
   ]
  },
  {
   "cell_type": "code",
   "execution_count": 203,
   "metadata": {},
   "outputs": [],
   "source": [
    "model = Sequential([\n",
    "                    Embedding(10000, 128, input_length=maxlenght),\n",
    "                    LSTM(200, return_sequences=True),\n",
    "                    LSTM(100),\n",
    "                    Dense(1, activation='sigmoid')\n",
    "])"
   ]
  },
  {
   "cell_type": "code",
   "execution_count": 204,
   "metadata": {},
   "outputs": [
    {
     "name": "stdout",
     "output_type": "stream",
     "text": [
      "Model: \"sequential_9\"\n",
      "_________________________________________________________________\n",
      " Layer (type)                Output Shape              Param #   \n",
      "=================================================================\n",
      " embedding_9 (Embedding)     (None, 10, 128)           1280000   \n",
      "                                                                 \n",
      " lstm_19 (LSTM)              (None, 10, 200)           263200    \n",
      "                                                                 \n",
      " lstm_20 (LSTM)              (None, 100)               120400    \n",
      "                                                                 \n",
      " dense_9 (Dense)             (None, 1)                 101       \n",
      "                                                                 \n",
      "=================================================================\n",
      "Total params: 1,663,701\n",
      "Trainable params: 1,663,701\n",
      "Non-trainable params: 0\n",
      "_________________________________________________________________\n"
     ]
    }
   ],
   "source": [
    "model.summary()"
   ]
  },
  {
   "cell_type": "markdown",
   "metadata": {},
   "source": [
    "I'm trying to use the embedding dimensions of 128 and the first lstm layer is 200 larger than the embedding dimensions. the screen I use is 2 layer LSTM. with a total of 511,701 parameters and all of them can be train."
   ]
  },
  {
   "cell_type": "markdown",
   "metadata": {},
   "source": [
    "# **MODEL TRAINING**"
   ]
  },
  {
   "cell_type": "code",
   "execution_count": 205,
   "metadata": {},
   "outputs": [],
   "source": [
    "model.compile(loss='binary_crossentropy',\n",
    "                optimizer='adam',\n",
    "                metrics=['accuracy']\n",
    ")"
   ]
  },
  {
   "cell_type": "markdown",
   "metadata": {},
   "source": [
    "# **MODEL EVALUATION**"
   ]
  },
  {
   "cell_type": "code",
   "execution_count": 206,
   "metadata": {},
   "outputs": [],
   "source": [
    "comparison_model = pd.DataFrame(columns=[\n",
    "    'Model',\n",
    "    'accuracy'\n",
    "])"
   ]
  },
  {
   "cell_type": "code",
   "execution_count": 207,
   "metadata": {},
   "outputs": [],
   "source": [
    "train = model.fit(train_set,epochs=10,validation_data=(val_set),verbose = 0)"
   ]
  },
  {
   "cell_type": "code",
   "execution_count": 208,
   "metadata": {},
   "outputs": [
    {
     "data": {
      "text/html": [
       "<div>\n",
       "<style scoped>\n",
       "    .dataframe tbody tr th:only-of-type {\n",
       "        vertical-align: middle;\n",
       "    }\n",
       "\n",
       "    .dataframe tbody tr th {\n",
       "        vertical-align: top;\n",
       "    }\n",
       "\n",
       "    .dataframe thead th {\n",
       "        text-align: right;\n",
       "    }\n",
       "</style>\n",
       "<table border=\"1\" class=\"dataframe\">\n",
       "  <thead>\n",
       "    <tr style=\"text-align: right;\">\n",
       "      <th></th>\n",
       "      <th>loss</th>\n",
       "      <th>accuracy</th>\n",
       "      <th>val_loss</th>\n",
       "      <th>val_accuracy</th>\n",
       "    </tr>\n",
       "  </thead>\n",
       "  <tbody>\n",
       "    <tr>\n",
       "      <th>0</th>\n",
       "      <td>0.559214</td>\n",
       "      <td>0.638624</td>\n",
       "      <td>0.538815</td>\n",
       "      <td>0.667336</td>\n",
       "    </tr>\n",
       "    <tr>\n",
       "      <th>1</th>\n",
       "      <td>0.498224</td>\n",
       "      <td>0.710522</td>\n",
       "      <td>0.549631</td>\n",
       "      <td>0.667783</td>\n",
       "    </tr>\n",
       "    <tr>\n",
       "      <th>2</th>\n",
       "      <td>0.436607</td>\n",
       "      <td>0.753889</td>\n",
       "      <td>0.618629</td>\n",
       "      <td>0.657736</td>\n",
       "    </tr>\n",
       "    <tr>\n",
       "      <th>3</th>\n",
       "      <td>0.381582</td>\n",
       "      <td>0.787407</td>\n",
       "      <td>0.703700</td>\n",
       "      <td>0.662425</td>\n",
       "    </tr>\n",
       "    <tr>\n",
       "      <th>4</th>\n",
       "      <td>0.341320</td>\n",
       "      <td>0.810554</td>\n",
       "      <td>0.750797</td>\n",
       "      <td>0.655950</td>\n",
       "    </tr>\n",
       "  </tbody>\n",
       "</table>\n",
       "</div>"
      ],
      "text/plain": [
       "       loss  accuracy  val_loss  val_accuracy\n",
       "0  0.559214  0.638624  0.538815      0.667336\n",
       "1  0.498224  0.710522  0.549631      0.667783\n",
       "2  0.436607  0.753889  0.618629      0.657736\n",
       "3  0.381582  0.787407  0.703700      0.662425\n",
       "4  0.341320  0.810554  0.750797      0.655950"
      ]
     },
     "execution_count": 208,
     "metadata": {},
     "output_type": "execute_result"
    }
   ],
   "source": [
    "metrics =pd.DataFrame(train.history) #history kedua untuk mengakses history\n",
    "metrics.head()"
   ]
  },
  {
   "cell_type": "code",
   "execution_count": 209,
   "metadata": {},
   "outputs": [
    {
     "data": {
      "image/png": "[encoded data removed]",
      "text/plain": [
       "<Figure size 1080x576 with 1 Axes>"
      ]
     },
     "metadata": {
      "needs_background": "light"
     },
     "output_type": "display_data"
    }
   ],
   "source": [
    "metrics[['loss','val_loss','accuracy','val_accuracy']].plot(figsize=(15,8));"
   ]
  },
  {
   "cell_type": "markdown",
   "metadata": {},
   "source": [
    "Judging from the graph, this model shows quite an overfitting model because the loss (train and val) graph and the accurasy (train and val) graph, the more epchs passed, the farther away from each graph is. "
   ]
  },
  {
   "cell_type": "markdown",
   "metadata": {},
   "source": [
    "# **MODEL EVALUATION**"
   ]
  },
  {
   "cell_type": "code",
   "execution_count": 210,
   "metadata": {},
   "outputs": [
    {
     "name": "stdout",
     "output_type": "stream",
     "text": [
      "              precision    recall  f1-score   support\n",
      "\n",
      "           0       0.56      0.50      0.53      6300\n",
      "           1       0.43      0.49      0.46      4897\n",
      "\n",
      "    accuracy                           0.49     11197\n",
      "   macro avg       0.49      0.49      0.49     11197\n",
      "weighted avg       0.50      0.49      0.50     11197\n",
      "\n"
     ]
    }
   ],
   "source": [
    "y_pred = model.predict(test_set)\n",
    "y_pred = np.where(y_pred < 0.5, 0 , 1).squeeze()\n",
    "\n",
    "print(classification_report(y_test, y_pred))\n",
    "\n",
    "comparison_model.loc[0] = ['base model',0.51]"
   ]
  },
  {
   "cell_type": "markdown",
   "metadata": {},
   "source": [
    "After making predictions using this first model. the accuracy only touches 0.49 or 49%, this is still far from good. this model can only predict the correct 49%."
   ]
  },
  {
   "cell_type": "markdown",
   "metadata": {},
   "source": [
    "# **MODEL IMPROVEMENT**"
   ]
  },
  {
   "cell_type": "markdown",
   "metadata": {},
   "source": [
    "## Improvement 1"
   ]
  },
  {
   "cell_type": "markdown",
   "metadata": {},
   "source": [
    "The first improvement model that I did was to use the same layer, except that I replaced the neural in the LSTM layer. which was originally 200 to 64 and 100 to 32."
   ]
  },
  {
   "cell_type": "code",
   "execution_count": 211,
   "metadata": {},
   "outputs": [],
   "source": [
    "model_imp1 = Sequential([\n",
    "                    Embedding(10000, 128, input_length=maxlenght, embeddings_initializer=\"uniform\"),\n",
    "                    LSTM(64, return_sequences=True),\n",
    "                    LSTM(32),\n",
    "                    Dense(1, activation='sigmoid')\n",
    "])"
   ]
  },
  {
   "cell_type": "code",
   "execution_count": 212,
   "metadata": {},
   "outputs": [],
   "source": [
    "model_imp1.compile(loss='binary_crossentropy',\n",
    "                optimizer='adam',\n",
    "                metrics=['accuracy']\n",
    ")"
   ]
  },
  {
   "cell_type": "code",
   "execution_count": 213,
   "metadata": {},
   "outputs": [],
   "source": [
    "train_1 = model_imp1.fit(train_set,epochs=10,validation_data=(val_set),verbose = 0)"
   ]
  },
  {
   "cell_type": "code",
   "execution_count": 214,
   "metadata": {},
   "outputs": [
    {
     "data": {
      "text/html": [
       "<div>\n",
       "<style scoped>\n",
       "    .dataframe tbody tr th:only-of-type {\n",
       "        vertical-align: middle;\n",
       "    }\n",
       "\n",
       "    .dataframe tbody tr th {\n",
       "        vertical-align: top;\n",
       "    }\n",
       "\n",
       "    .dataframe thead th {\n",
       "        text-align: right;\n",
       "    }\n",
       "</style>\n",
       "<table border=\"1\" class=\"dataframe\">\n",
       "  <thead>\n",
       "    <tr style=\"text-align: right;\">\n",
       "      <th></th>\n",
       "      <th>loss</th>\n",
       "      <th>accuracy</th>\n",
       "      <th>val_loss</th>\n",
       "      <th>val_accuracy</th>\n",
       "    </tr>\n",
       "  </thead>\n",
       "  <tbody>\n",
       "    <tr>\n",
       "      <th>0</th>\n",
       "      <td>0.557724</td>\n",
       "      <td>0.638202</td>\n",
       "      <td>0.541649</td>\n",
       "      <td>0.663094</td>\n",
       "    </tr>\n",
       "    <tr>\n",
       "      <th>1</th>\n",
       "      <td>0.495196</td>\n",
       "      <td>0.712085</td>\n",
       "      <td>0.540224</td>\n",
       "      <td>0.670239</td>\n",
       "    </tr>\n",
       "    <tr>\n",
       "      <th>2</th>\n",
       "      <td>0.431611</td>\n",
       "      <td>0.753542</td>\n",
       "      <td>0.577033</td>\n",
       "      <td>0.671355</td>\n",
       "    </tr>\n",
       "    <tr>\n",
       "      <th>3</th>\n",
       "      <td>0.377838</td>\n",
       "      <td>0.788821</td>\n",
       "      <td>0.635255</td>\n",
       "      <td>0.670909</td>\n",
       "    </tr>\n",
       "    <tr>\n",
       "      <th>4</th>\n",
       "      <td>0.338076</td>\n",
       "      <td>0.810877</td>\n",
       "      <td>0.736076</td>\n",
       "      <td>0.668006</td>\n",
       "    </tr>\n",
       "  </tbody>\n",
       "</table>\n",
       "</div>"
      ],
      "text/plain": [
       "       loss  accuracy  val_loss  val_accuracy\n",
       "0  0.557724  0.638202  0.541649      0.663094\n",
       "1  0.495196  0.712085  0.540224      0.670239\n",
       "2  0.431611  0.753542  0.577033      0.671355\n",
       "3  0.377838  0.788821  0.635255      0.670909\n",
       "4  0.338076  0.810877  0.736076      0.668006"
      ]
     },
     "execution_count": 214,
     "metadata": {},
     "output_type": "execute_result"
    }
   ],
   "source": [
    "metrics1 =pd.DataFrame(train_1.history) #history kedua untuk mengakses history\n",
    "metrics1.head()"
   ]
  },
  {
   "cell_type": "code",
   "execution_count": 215,
   "metadata": {},
   "outputs": [
    {
     "data": {
      "image/png": "[encoded data removed]",
      "text/plain": [
       "<Figure size 1080x576 with 1 Axes>"
      ]
     },
     "metadata": {
      "needs_background": "light"
     },
     "output_type": "display_data"
    }
   ],
   "source": [
    "metrics1[['loss','val_loss','accuracy','val_accuracy']].plot(figsize=(15,8));"
   ]
  },
  {
   "cell_type": "markdown",
   "metadata": {},
   "source": [
    "The model is still overfitting, it turns out that just replacing the neurons is not enough to change the model results. which can also be noted that with this model the maximum accuray only touches around 0.7 while with the previous model it can touch 0.8."
   ]
  },
  {
   "cell_type": "code",
   "execution_count": 216,
   "metadata": {},
   "outputs": [
    {
     "name": "stdout",
     "output_type": "stream",
     "text": [
      "              precision    recall  f1-score   support\n",
      "\n",
      "           0       0.56      0.54      0.55      6300\n",
      "           1       0.44      0.47      0.45      4897\n",
      "\n",
      "    accuracy                           0.51     11197\n",
      "   macro avg       0.50      0.50      0.50     11197\n",
      "weighted avg       0.51      0.51      0.51     11197\n",
      "\n"
     ]
    }
   ],
   "source": [
    "y_pred_imp1 = model_imp1.predict(test_set)\n",
    "y_pred_imp1 = np.where(y_pred_imp1 < 0.5, 0 , 1).squeeze()\n",
    "print(classification_report(y_test, y_pred_imp1))\n",
    "\n",
    "comparison_model.loc[1] = ['improvement 1',0.51]"
   ]
  },
  {
   "cell_type": "markdown",
   "metadata": {},
   "source": [
    "accuracy when making predictions does not change, it remains at 0.51. So with this first improvement, the results are still the same as the base model."
   ]
  },
  {
   "cell_type": "markdown",
   "metadata": {},
   "source": [
    "## Improvement 2"
   ]
  },
  {
   "cell_type": "markdown",
   "metadata": {},
   "source": [
    "This second improvement I added a dropout layer on LSTM layer 64 which means it will only use 0.5 of the total neurons. and replace embeddings_initializer which was originally uniform to normal glorot."
   ]
  },
  {
   "cell_type": "code",
   "execution_count": 245,
   "metadata": {},
   "outputs": [],
   "source": [
    "model_imp2 = Sequential([\n",
    "                    Embedding(10000, 128, input_length=maxlenght, embeddings_initializer=\"GlorotNormal\"),\n",
    "                    LSTM(64, return_sequences=True),\n",
    "                    Dropout(0.5),\n",
    "                    LSTM(32),\n",
    "                    Dense(1, activation='sigmoid')\n",
    "])"
   ]
  },
  {
   "cell_type": "code",
   "execution_count": 246,
   "metadata": {},
   "outputs": [],
   "source": [
    "model_imp2.compile(loss='binary_crossentropy',\n",
    "                optimizer='adamax',\n",
    "                metrics=['accuracy']\n",
    ")"
   ]
  },
  {
   "cell_type": "code",
   "execution_count": 247,
   "metadata": {},
   "outputs": [],
   "source": [
    "train_2 = model_imp2.fit(train_set,epochs=4,validation_data=(val_set),verbose = 0)"
   ]
  },
  {
   "cell_type": "code",
   "execution_count": 248,
   "metadata": {},
   "outputs": [
    {
     "data": {
      "text/html": [
       "<div>\n",
       "<style scoped>\n",
       "    .dataframe tbody tr th:only-of-type {\n",
       "        vertical-align: middle;\n",
       "    }\n",
       "\n",
       "    .dataframe tbody tr th {\n",
       "        vertical-align: top;\n",
       "    }\n",
       "\n",
       "    .dataframe thead th {\n",
       "        text-align: right;\n",
       "    }\n",
       "</style>\n",
       "<table border=\"1\" class=\"dataframe\">\n",
       "  <thead>\n",
       "    <tr style=\"text-align: right;\">\n",
       "      <th></th>\n",
       "      <th>loss</th>\n",
       "      <th>accuracy</th>\n",
       "      <th>val_loss</th>\n",
       "      <th>val_accuracy</th>\n",
       "    </tr>\n",
       "  </thead>\n",
       "  <tbody>\n",
       "    <tr>\n",
       "      <th>0</th>\n",
       "      <td>0.572007</td>\n",
       "      <td>0.623986</td>\n",
       "      <td>0.560095</td>\n",
       "      <td>0.635856</td>\n",
       "    </tr>\n",
       "    <tr>\n",
       "      <th>1</th>\n",
       "      <td>0.542420</td>\n",
       "      <td>0.668221</td>\n",
       "      <td>0.550810</td>\n",
       "      <td>0.655057</td>\n",
       "    </tr>\n",
       "    <tr>\n",
       "      <th>2</th>\n",
       "      <td>0.522082</td>\n",
       "      <td>0.690600</td>\n",
       "      <td>0.544300</td>\n",
       "      <td>0.652378</td>\n",
       "    </tr>\n",
       "    <tr>\n",
       "      <th>3</th>\n",
       "      <td>0.506102</td>\n",
       "      <td>0.705188</td>\n",
       "      <td>0.544100</td>\n",
       "      <td>0.657066</td>\n",
       "    </tr>\n",
       "  </tbody>\n",
       "</table>\n",
       "</div>"
      ],
      "text/plain": [
       "       loss  accuracy  val_loss  val_accuracy\n",
       "0  0.572007  0.623986  0.560095      0.635856\n",
       "1  0.542420  0.668221  0.550810      0.655057\n",
       "2  0.522082  0.690600  0.544300      0.652378\n",
       "3  0.506102  0.705188  0.544100      0.657066"
      ]
     },
     "execution_count": 248,
     "metadata": {},
     "output_type": "execute_result"
    }
   ],
   "source": [
    "metrics2 =pd.DataFrame(train_2.history) #history kedua untuk mengakses history\n",
    "metrics2.head()"
   ]
  },
  {
   "cell_type": "code",
   "execution_count": 249,
   "metadata": {},
   "outputs": [
    {
     "data": {
      "image/png": "[encoded data removed]",
      "text/plain": [
       "<Figure size 1080x576 with 1 Axes>"
      ]
     },
     "metadata": {
      "needs_background": "light"
     },
     "output_type": "display_data"
    }
   ],
   "source": [
    "metrics2[['loss','val_loss','accuracy','val_accuracy']].plot(figsize=(15,8));"
   ]
  },
  {
   "cell_type": "markdown",
   "metadata": {},
   "source": [
    "In this model, it is sufficient to make the graphs not too far apart in the same epoch, namely 10. Thus, the 2nd improvement model is sufficient to handle the overfitting model. Overall an unsatisfactory model, it is still an overfitting model."
   ]
  },
  {
   "cell_type": "code",
   "execution_count": 250,
   "metadata": {},
   "outputs": [
    {
     "name": "stdout",
     "output_type": "stream",
     "text": [
      "              precision    recall  f1-score   support\n",
      "\n",
      "           0       0.57      0.50      0.53      6300\n",
      "           1       0.44      0.51      0.48      4897\n",
      "\n",
      "    accuracy                           0.51     11197\n",
      "   macro avg       0.51      0.51      0.51     11197\n",
      "weighted avg       0.52      0.51      0.51     11197\n",
      "\n"
     ]
    }
   ],
   "source": [
    "y_pred_imp2 = model_imp2.predict(test_set)\n",
    "y_pred_imp2 = np.where(y_pred_imp2 < 0.5, 0 , 1).squeeze()\n",
    "print(classification_report(y_test, y_pred_imp2))\n",
    "\n",
    "comparison_model.loc[2] = ['improvement 2',0.51]"
   ]
  },
  {
   "cell_type": "markdown",
   "metadata": {},
   "source": [
    "If we look when predicting. the overfitting is indeed handled but the accuray here is lower than the previous 2 models, only 51%."
   ]
  },
  {
   "cell_type": "markdown",
   "metadata": {},
   "source": [
    "## Model Improvement 3"
   ]
  },
  {
   "cell_type": "markdown",
   "metadata": {},
   "source": [
    "Di model improvement ke 3 ini saya menggabungkan beberapa improvement yang sudah dipakai, dan juga mengurangi epoch mejadi 4 dari 10 akrena sama melihat dari 3 grafik diatas dimana menjadi titik berpencarnya grafik(overfitting)"
   ]
  },
  {
   "cell_type": "code",
   "execution_count": 223,
   "metadata": {},
   "outputs": [],
   "source": [
    "model_imp3 = Sequential([\n",
    "                    Embedding(10000, 128, input_length=maxlenght,embeddings_initializer=\"uniform\"),\n",
    "                    LSTM(64, return_sequences=True),\n",
    "                    Dropout(0.5),\n",
    "                    LSTM(32),\n",
    "                    Dropout(0.5),\n",
    "                    Dense(1, activation='sigmoid')\n",
    "])"
   ]
  },
  {
   "cell_type": "code",
   "execution_count": 224,
   "metadata": {},
   "outputs": [],
   "source": [
    "model_imp3.compile(loss='binary_crossentropy',\n",
    "                optimizer='adamax',\n",
    "                metrics=['accuracy']\n",
    ")"
   ]
  },
  {
   "cell_type": "code",
   "execution_count": 225,
   "metadata": {},
   "outputs": [],
   "source": [
    "train_3 = model_imp3.fit(train_set,epochs=4,validation_data=(val_set),verbose = 0)"
   ]
  },
  {
   "cell_type": "code",
   "execution_count": 226,
   "metadata": {},
   "outputs": [
    {
     "data": {
      "text/html": [
       "<div>\n",
       "<style scoped>\n",
       "    .dataframe tbody tr th:only-of-type {\n",
       "        vertical-align: middle;\n",
       "    }\n",
       "\n",
       "    .dataframe tbody tr th {\n",
       "        vertical-align: top;\n",
       "    }\n",
       "\n",
       "    .dataframe thead th {\n",
       "        text-align: right;\n",
       "    }\n",
       "</style>\n",
       "<table border=\"1\" class=\"dataframe\">\n",
       "  <thead>\n",
       "    <tr style=\"text-align: right;\">\n",
       "      <th></th>\n",
       "      <th>loss</th>\n",
       "      <th>accuracy</th>\n",
       "      <th>val_loss</th>\n",
       "      <th>val_accuracy</th>\n",
       "    </tr>\n",
       "  </thead>\n",
       "  <tbody>\n",
       "    <tr>\n",
       "      <th>0</th>\n",
       "      <td>0.571450</td>\n",
       "      <td>0.623812</td>\n",
       "      <td>0.559084</td>\n",
       "      <td>0.637642</td>\n",
       "    </tr>\n",
       "    <tr>\n",
       "      <th>1</th>\n",
       "      <td>0.542481</td>\n",
       "      <td>0.669015</td>\n",
       "      <td>0.550896</td>\n",
       "      <td>0.640768</td>\n",
       "    </tr>\n",
       "    <tr>\n",
       "      <th>2</th>\n",
       "      <td>0.522780</td>\n",
       "      <td>0.689409</td>\n",
       "      <td>0.547502</td>\n",
       "      <td>0.653494</td>\n",
       "    </tr>\n",
       "    <tr>\n",
       "      <th>3</th>\n",
       "      <td>0.504542</td>\n",
       "      <td>0.702806</td>\n",
       "      <td>0.553929</td>\n",
       "      <td>0.659299</td>\n",
       "    </tr>\n",
       "    <tr>\n",
       "      <th>4</th>\n",
       "      <td>0.488323</td>\n",
       "      <td>0.716228</td>\n",
       "      <td>0.553066</td>\n",
       "      <td>0.660192</td>\n",
       "    </tr>\n",
       "  </tbody>\n",
       "</table>\n",
       "</div>"
      ],
      "text/plain": [
       "       loss  accuracy  val_loss  val_accuracy\n",
       "0  0.571450  0.623812  0.559084      0.637642\n",
       "1  0.542481  0.669015  0.550896      0.640768\n",
       "2  0.522780  0.689409  0.547502      0.653494\n",
       "3  0.504542  0.702806  0.553929      0.659299\n",
       "4  0.488323  0.716228  0.553066      0.660192"
      ]
     },
     "execution_count": 226,
     "metadata": {},
     "output_type": "execute_result"
    }
   ],
   "source": [
    "metrics3 =pd.DataFrame(train_3.history) #history kedua untuk mengakses history\n",
    "metrics2.head()"
   ]
  },
  {
   "cell_type": "code",
   "execution_count": 227,
   "metadata": {},
   "outputs": [
    {
     "data": {
      "image/png": "[encoded data removed]",
      "text/plain": [
       "<Figure size 1080x576 with 1 Axes>"
      ]
     },
     "metadata": {
      "needs_background": "light"
     },
     "output_type": "display_data"
    }
   ],
   "source": [
    "metrics3[['loss','val_loss','accuracy','val_accuracy']].plot(figsize=(15,8));"
   ]
  },
  {
   "cell_type": "markdown",
   "metadata": {},
   "source": [
    "As can be seen from the graph above. oberfitting has been resolved even though the maximum accuray remains at 0.66. if we look at the end of the epochs the direction of the graph begins to scatter. so epochs 4 is in my opinion the best epochs for now."
   ]
  },
  {
   "cell_type": "code",
   "execution_count": 237,
   "metadata": {},
   "outputs": [
    {
     "name": "stdout",
     "output_type": "stream",
     "text": [
      "              precision    recall  f1-score   support\n",
      "\n",
      "           0       0.56      0.60      0.58      6300\n",
      "           1       0.44      0.40      0.42      4897\n",
      "\n",
      "    accuracy                           0.51     11197\n",
      "   macro avg       0.50      0.50      0.50     11197\n",
      "weighted avg       0.51      0.51      0.51     11197\n",
      "\n"
     ]
    }
   ],
   "source": [
    "y_pred_imp3 = model_imp3.predict(test_set)\n",
    "y_pred_imp3 = np.where(y_pred_imp3 < 0.5, 0 , 1).squeeze()\n",
    "print(classification_report(y_test, y_pred_imp3))\n",
    "\n",
    "comparison_model.loc[3] = ['improvement 3',0.51]"
   ]
  },
  {
   "cell_type": "markdown",
   "metadata": {},
   "source": [
    "The predictive value of the test set also increased to 51%, by making this last improvement it can reduce the overfitting of the model"
   ]
  },
  {
   "cell_type": "markdown",
   "metadata": {},
   "source": [
    "# **MODEL COMPARISSON**"
   ]
  },
  {
   "cell_type": "code",
   "execution_count": 238,
   "metadata": {},
   "outputs": [
    {
     "data": {
      "text/html": [
       "<div>\n",
       "<style scoped>\n",
       "    .dataframe tbody tr th:only-of-type {\n",
       "        vertical-align: middle;\n",
       "    }\n",
       "\n",
       "    .dataframe tbody tr th {\n",
       "        vertical-align: top;\n",
       "    }\n",
       "\n",
       "    .dataframe thead th {\n",
       "        text-align: right;\n",
       "    }\n",
       "</style>\n",
       "<table border=\"1\" class=\"dataframe\">\n",
       "  <thead>\n",
       "    <tr style=\"text-align: right;\">\n",
       "      <th></th>\n",
       "      <th>Model</th>\n",
       "      <th>accuracy</th>\n",
       "    </tr>\n",
       "  </thead>\n",
       "  <tbody>\n",
       "    <tr>\n",
       "      <th>0</th>\n",
       "      <td>base model</td>\n",
       "      <td>0.51</td>\n",
       "    </tr>\n",
       "    <tr>\n",
       "      <th>1</th>\n",
       "      <td>improvement 1</td>\n",
       "      <td>0.51</td>\n",
       "    </tr>\n",
       "    <tr>\n",
       "      <th>2</th>\n",
       "      <td>improvement 2</td>\n",
       "      <td>0.51</td>\n",
       "    </tr>\n",
       "    <tr>\n",
       "      <th>3</th>\n",
       "      <td>improvement 3</td>\n",
       "      <td>0.51</td>\n",
       "    </tr>\n",
       "  </tbody>\n",
       "</table>\n",
       "</div>"
      ],
      "text/plain": [
       "           Model  accuracy\n",
       "0     base model      0.51\n",
       "1  improvement 1      0.51\n",
       "2  improvement 2      0.51\n",
       "3  improvement 3      0.51"
      ]
     },
     "execution_count": 238,
     "metadata": {},
     "output_type": "execute_result"
    }
   ],
   "source": [
    "comparison_model"
   ]
  },
  {
   "cell_type": "markdown",
   "metadata": {},
   "source": [
    "the improvement models both have 51% accuracy in the test set, this can still be improved in many ways, one of which is using pretrained models that are already available, such as Word2Vec, GloVe, BERT and many more."
   ]
  },
  {
   "cell_type": "code",
   "execution_count": 230,
   "metadata": {},
   "outputs": [],
   "source": [
    "#confusion matrix\n",
    "cf_base =  confusion_matrix(y_test,y_pred)\n",
    "cf_imp1 =  confusion_matrix(y_test,y_pred_imp1)\n",
    "cf_imp2 =  confusion_matrix(y_test,y_pred_imp2)\n",
    "cf_imp3 =  confusion_matrix(y_test,y_pred_imp3)\n",
    "\n",
    "df = [cf_base,cf_imp1,cf_imp2,cf_imp3]\n",
    "\n",
    "comparison_model.reset_index(drop=True,inplace=True)\n"
   ]
  },
  {
   "cell_type": "code",
   "execution_count": 231,
   "metadata": {},
   "outputs": [
    {
     "data": {
      "image/png": "[encoded data removed]",
      "text/plain": [
       "<Figure size 1440x1080 with 8 Axes>"
      ]
     },
     "metadata": {
      "needs_background": "light"
     },
     "output_type": "display_data"
    }
   ],
   "source": [
    "#looping for confusion matrix heatmap\n",
    "plt.figure(figsize=(20, 15))\n",
    "for i in range(len(comparison_model.Model)):\n",
    "  plt.subplot(2, 2, i+1)\n",
    "  ax = sns.heatmap(df[i], annot=True, cmap='Blues', fmt='g')\n",
    "  ax.set_xticklabels(['Negative', 'Positif'])\n",
    "  ax.set_yticklabels(['Negative', 'Positive'])\n",
    "  plt.title(comparison_model.iloc[i, 0])\n",
    "plt.show()"
   ]
  },
  {
   "cell_type": "markdown",
   "metadata": {},
   "source": [
    "Number of wrong prediction:\n",
    "\n",
    "- Base Model : 5.663\n",
    "- Improvement 1: 5.586\n",
    "- Improvement 2: 5.479\n",
    "- Improvement 3: 5.496\n",
    "\n"
   ]
  },
  {
   "cell_type": "markdown",
   "metadata": {},
   "source": [
    "If we look at the confusion matrix, the improvement 2 model has the least number of wrong guesses. I saw the highest number of wrong guesses because. with this sentiment acting on the price of bitcoin, people will buy bitcoin when the price is down (negative) and buy when it is up (positive). If, we guess the sentiment wrong, we can guess the wrong price, which in turn will affect people's decisions to buy or sell bitcoin. When the price is rising, the sentiment indicator shows negative where people will buy it and vice versa."
   ]
  },
  {
   "cell_type": "markdown",
   "metadata": {},
   "source": [
    "Best Model : **Model Improvement 2**"
   ]
  },
  {
   "cell_type": "markdown",
   "metadata": {},
   "source": [
    "# **MODEL SAVING**"
   ]
  },
  {
   "cell_type": "code",
   "execution_count": 240,
   "metadata": {},
   "outputs": [],
   "source": [
    "import pickle\n",
    "\n",
    "#saving model\n",
    "model_imp2.save('model_imp2.h5')\n",
    "\n",
    "# saving preprocess\n",
    "with open('tokenizer.pkl','wb') as file:\n",
    "    pickle.dump(t,file)"
   ]
  },
  {
   "cell_type": "markdown",
   "metadata": {},
   "source": [
    "# **MODEL INFERENCE**"
   ]
  },
  {
   "cell_type": "markdown",
   "metadata": {},
   "source": [
    "This model inference is carried out to check whether the functions and models that have been carried out are running if they are entered with new data/input."
   ]
  },
  {
   "cell_type": "code",
   "execution_count": 241,
   "metadata": {},
   "outputs": [],
   "source": [
    "def _removeNonAscii(s): \n",
    "    return \"\".join(i for i in s if ord(i)<128)\n",
    "\n",
    "\n",
    "def clean_text(text):\n",
    "    text = text.lower()\n",
    "    text = re.sub(r\"http\\S+\", \"\", text)\n",
    "    text = re.sub(r\"what's\", \"what is \", text)\n",
    "    text = text.replace('(ap)', '')\n",
    "    text = re.sub(r\"\\'s\", \" is \", text)\n",
    "    text = re.sub(r\"\\'ve\", \" have \", text)\n",
    "    text = re.sub(r\"can't\", \"cannot \", text)\n",
    "    text = re.sub(r\"n't\", \" not \", text)\n",
    "    text = re.sub(r\"i'm\", \"i am \", text)\n",
    "    text = re.sub(r\"\\'re\", \" are \", text)\n",
    "    text = re.sub(r\"\\'d\", \" would \", text)\n",
    "    text = re.sub(r\"\\'ll\", \" will \", text)\n",
    "    text = re.sub(r'\\W+', ' ', text)\n",
    "    text = re.sub(r'\\s+', ' ', text)\n",
    "    text = re.sub(r\"\\\\\", \"\", text)\n",
    "    text = re.sub(r\"\\'\", \"\", text)    \n",
    "    text = re.sub(r\"\\\"\", \"\", text)\n",
    "    text = re.sub('[^a-zA-Z ?!]+', '', text)\n",
    "    text = _removeNonAscii(text)\n",
    "    text = text.strip()\n",
    "    return text\n",
    "\n",
    "def cleaned(text):\n",
    "    text = clean_text(text)\n",
    "    text = word_tokenize(text)\n",
    "    text = [i for i in text if i not in stopwords]\n",
    "    text = [word_lemmatizer.lemmatize(word) for word in text]\n",
    "    return text\n",
    "\n",
    "def preprocess(text):\n",
    "    text = pd.Series([text])\n",
    "    text = text.apply(lambda row: cleaned(row))\n",
    "    text = t.texts_to_sequences(text)\n",
    "    text = pad_sequences(text, maxlen = 10, padding = 'post')\n",
    "    return text"
   ]
  },
  {
   "cell_type": "code",
   "execution_count": 242,
   "metadata": {},
   "outputs": [],
   "source": [
    "#input\n",
    "sample = 'Bitcoin (BTC) this morning rapid 5% at the level of 46,631 US dollars'"
   ]
  },
  {
   "cell_type": "code",
   "execution_count": 243,
   "metadata": {},
   "outputs": [
    {
     "data": {
      "text/plain": [
       "array([[   2,    3,  695, 2915,  448,   69,  164,    0,    0,    0]])"
      ]
     },
     "execution_count": 243,
     "metadata": {},
     "output_type": "execute_result"
    }
   ],
   "source": [
    "#preprocess\n",
    "samples = preprocess(sample)\n",
    "samples\n"
   ]
  },
  {
   "cell_type": "code",
   "execution_count": 244,
   "metadata": {},
   "outputs": [
    {
     "data": {
      "text/plain": [
       "array(0)"
      ]
     },
     "execution_count": 244,
     "metadata": {},
     "output_type": "execute_result"
    }
   ],
   "source": [
    "#predict\n",
    "y_pred_inf = model_imp2.predict(samples)\n",
    "y_pred_inf = np.where(y_pred_inf < 0.5, 0 , 1).squeeze()\n",
    "y_pred_inf"
   ]
  },
  {
   "cell_type": "markdown",
   "metadata": {},
   "source": [
    "The model works well with the new data."
   ]
  },
  {
   "cell_type": "markdown",
   "metadata": {},
   "source": [
    "# **CONCLUSION**"
   ]
  },
  {
   "cell_type": "markdown",
   "metadata": {},
   "source": [
    "From EDA:\n",
    "- English is the most widely spoken language (the majority)\n",
    "- In 2017 - 2018 people's tweets related to bitcoin tend to have negative sentiments\n",
    "- Average word usage is only 16 words\n",
    "- Average character usage is only 129 characters\n",
    "- People's tweets about bitcoin tend not to be long sentences like paragraphs.\n",
    "- People tend to be quick to comment about bitcoin\n",
    "\n",
    "From Modeling:\n",
    "- The model is done using layer embedding\n",
    "- from several models carried out, the highest accuracy is 53%\n",
    "- The results of training and val also show the model is still overfitting\n",
    "- Model improvement can solve the problem of overfitting (although it is still considered overfitting) but does not increase accuracy\n",
    "- This model still needs to be improved, such as:\n",
    "     - Cleaning, because the model is determined by the incoming data. if the data entered is not good then the results are not good\n",
    "     - pretrined, Pretraining the model can help to increase the accuracy of the model results."
   ]
  },
  {
   "cell_type": "markdown",
   "metadata": {},
   "source": []
  }
 ],
 "metadata": {
  "interpreter": {
   "hash": "9bf2ca0f4a7adc3ce2f237ca763c1538d3ef289a4e7face3612a01cdae9f6807"
  },
  "kernelspec": {
   "display_name": "Python 3.10.1 64-bit",
   "language": "python",
   "name": "python3"
  },
  "language_info": {
   "codemirror_mode": {
    "name": "ipython",
    "version": 3
   },
   "file_extension": ".py",
   "mimetype": "text/x-python",
   "name": "python",
   "nbconvert_exporter": "python",
   "pygments_lexer": "ipython3",
   "version": "3.10.1"
  },
  "orig_nbformat": 4
 },
 "nbformat": 4,
 "nbformat_minor": 2
}
